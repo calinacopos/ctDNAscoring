{
 "cells": [
  {
   "cell_type": "code",
   "execution_count": 57,
   "metadata": {},
   "outputs": [],
   "source": [
    "import pandas as pd\n",
    "import numpy as np\n",
    "import collections\n",
    "from scipy.fftpack import fft\n",
    "from scipy.signal import welch\n",
    "from scipy.signal import find_peaks\n",
    "import re"
   ]
  },
  {
   "cell_type": "code",
   "execution_count": 2,
   "metadata": {},
   "outputs": [
    {
     "name": "stdout",
     "output_type": "stream",
     "text": [
      "Loading file...\n"
     ]
    }
   ],
   "source": [
    "print('Loading file...')\n",
    "file = '/Users/anamaria1/Desktop/Conferences/2019/Novartis/cfDNA/Hack9-DataAnalysisFolders/DATA.csv'\n",
    "samples = pd.read_csv(file,sep='\\t')"
   ]
  },
  {
   "cell_type": "code",
   "execution_count": 3,
   "metadata": {},
   "outputs": [],
   "source": [
    "def splitter(row):\n",
    "    p = re.split(',',row)\n",
    "    results = list(map(float, p))\n",
    "    return results"
   ]
  },
  {
   "cell_type": "code",
   "execution_count": 5,
   "metadata": {},
   "outputs": [
    {
     "name": "stdout",
     "output_type": "stream",
     "text": [
      "Beginning cleaning up file...\n"
     ]
    }
   ],
   "source": [
    "print('Beginning cleaning up file...')\n",
    "try: \n",
    "    del samples['Unnamed: 0']\n",
    "    del samples['5']\n",
    "except:\n",
    "    print('Handled')"
   ]
  },
  {
   "cell_type": "code",
   "execution_count": 6,
   "metadata": {},
   "outputs": [
    {
     "data": {
      "text/html": [
       "<div>\n",
       "<style scoped>\n",
       "    .dataframe tbody tr th:only-of-type {\n",
       "        vertical-align: middle;\n",
       "    }\n",
       "\n",
       "    .dataframe tbody tr th {\n",
       "        vertical-align: top;\n",
       "    }\n",
       "\n",
       "    .dataframe thead th {\n",
       "        text-align: right;\n",
       "    }\n",
       "</style>\n",
       "<table border=\"1\" class=\"dataframe\">\n",
       "  <thead>\n",
       "    <tr style=\"text-align: right;\">\n",
       "      <th></th>\n",
       "      <th>0</th>\n",
       "      <th>1</th>\n",
       "      <th>2</th>\n",
       "      <th>3</th>\n",
       "      <th>4</th>\n",
       "      <th>gene_id</th>\n",
       "      <th>transcript_id</th>\n",
       "      <th>gene_type</th>\n",
       "      <th>gene_status</th>\n",
       "      <th>gene_name</th>\n",
       "      <th>...</th>\n",
       "      <th>transcript_status</th>\n",
       "      <th>transcript_name</th>\n",
       "      <th>exon_number</th>\n",
       "      <th>exon_id</th>\n",
       "      <th>level</th>\n",
       "      <th>protein_id</th>\n",
       "      <th>tag</th>\n",
       "      <th>ccdsid</th>\n",
       "      <th>havana_gene</th>\n",
       "      <th>havana_transcript</th>\n",
       "    </tr>\n",
       "  </thead>\n",
       "  <tbody>\n",
       "    <tr>\n",
       "      <th>0</th>\n",
       "      <td>LIB-ZIIEJE</td>\n",
       "      <td>chr1</td>\n",
       "      <td>3598930</td>\n",
       "      <td>3598995</td>\n",
       "      <td>-0.735294,-0.735294,-0.735294,-0.735294,-0.735...</td>\n",
       "      <td>ENSG00000078900.10</td>\n",
       "      <td>ENST00000378295.4</td>\n",
       "      <td>protein_coding</td>\n",
       "      <td>KNOWN</td>\n",
       "      <td>TP73</td>\n",
       "      <td>...</td>\n",
       "      <td>KNOWN</td>\n",
       "      <td>TP73-001</td>\n",
       "      <td>2</td>\n",
       "      <td>ENSE00000868857.1</td>\n",
       "      <td>2</td>\n",
       "      <td>ENSP00000367545.4</td>\n",
       "      <td>CCDS</td>\n",
       "      <td>CCDS49.1</td>\n",
       "      <td>OTTHUMG00000000610.5</td>\n",
       "      <td>OTTHUMT00000001468.4</td>\n",
       "    </tr>\n",
       "    <tr>\n",
       "      <th>1</th>\n",
       "      <td>LIB-ZIIEJE</td>\n",
       "      <td>chr1</td>\n",
       "      <td>3599624</td>\n",
       "      <td>3599745</td>\n",
       "      <td>-0.780822,-0.780822,-0.780822,-0.780822,-0.726...</td>\n",
       "      <td>ENSG00000078900.10</td>\n",
       "      <td>ENST00000378295.4</td>\n",
       "      <td>protein_coding</td>\n",
       "      <td>KNOWN</td>\n",
       "      <td>TP73</td>\n",
       "      <td>...</td>\n",
       "      <td>KNOWN</td>\n",
       "      <td>TP73-001</td>\n",
       "      <td>3</td>\n",
       "      <td>ENSE00000358575.1</td>\n",
       "      <td>2</td>\n",
       "      <td>ENSP00000367545.4</td>\n",
       "      <td>CCDS</td>\n",
       "      <td>CCDS49.1</td>\n",
       "      <td>OTTHUMG00000000610.5</td>\n",
       "      <td>OTTHUMT00000001468.4</td>\n",
       "    </tr>\n",
       "  </tbody>\n",
       "</table>\n",
       "<p>2 rows × 21 columns</p>\n",
       "</div>"
      ],
      "text/plain": [
       "            0     1        2        3  \\\n",
       "0  LIB-ZIIEJE  chr1  3598930  3598995   \n",
       "1  LIB-ZIIEJE  chr1  3599624  3599745   \n",
       "\n",
       "                                                   4             gene_id  \\\n",
       "0  -0.735294,-0.735294,-0.735294,-0.735294,-0.735...  ENSG00000078900.10   \n",
       "1  -0.780822,-0.780822,-0.780822,-0.780822,-0.726...  ENSG00000078900.10   \n",
       "\n",
       "       transcript_id       gene_type gene_status gene_name  ...  \\\n",
       "0  ENST00000378295.4  protein_coding       KNOWN      TP73  ...   \n",
       "1  ENST00000378295.4  protein_coding       KNOWN      TP73  ...   \n",
       "\n",
       "  transcript_status transcript_name exon_number            exon_id level  \\\n",
       "0             KNOWN        TP73-001           2  ENSE00000868857.1     2   \n",
       "1             KNOWN        TP73-001           3  ENSE00000358575.1     2   \n",
       "\n",
       "          protein_id   tag    ccdsid           havana_gene  \\\n",
       "0  ENSP00000367545.4  CCDS  CCDS49.1  OTTHUMG00000000610.5   \n",
       "1  ENSP00000367545.4  CCDS  CCDS49.1  OTTHUMG00000000610.5   \n",
       "\n",
       "      havana_transcript  \n",
       "0  OTTHUMT00000001468.4  \n",
       "1  OTTHUMT00000001468.4  \n",
       "\n",
       "[2 rows x 21 columns]"
      ]
     },
     "execution_count": 6,
     "metadata": {},
     "output_type": "execute_result"
    }
   ],
   "source": [
    "samples.head(2)"
   ]
  },
  {
   "cell_type": "code",
   "execution_count": 7,
   "metadata": {},
   "outputs": [
    {
     "name": "stdout",
     "output_type": "stream",
     "text": [
      "Convert WPS column to a signal...\n"
     ]
    }
   ],
   "source": [
    "print('Convert WPS column to a signal...')\n",
    "samples['4'] = samples['4'].apply(lambda row : splitter(row))"
   ]
  },
  {
   "cell_type": "code",
   "execution_count": 8,
   "metadata": {},
   "outputs": [
    {
     "data": {
      "text/html": [
       "<div>\n",
       "<style scoped>\n",
       "    .dataframe tbody tr th:only-of-type {\n",
       "        vertical-align: middle;\n",
       "    }\n",
       "\n",
       "    .dataframe tbody tr th {\n",
       "        vertical-align: top;\n",
       "    }\n",
       "\n",
       "    .dataframe thead th {\n",
       "        text-align: right;\n",
       "    }\n",
       "</style>\n",
       "<table border=\"1\" class=\"dataframe\">\n",
       "  <thead>\n",
       "    <tr style=\"text-align: right;\">\n",
       "      <th></th>\n",
       "      <th>0</th>\n",
       "      <th>1</th>\n",
       "      <th>2</th>\n",
       "      <th>3</th>\n",
       "      <th>4</th>\n",
       "      <th>gene_id</th>\n",
       "      <th>transcript_id</th>\n",
       "      <th>gene_type</th>\n",
       "      <th>gene_status</th>\n",
       "      <th>gene_name</th>\n",
       "      <th>...</th>\n",
       "      <th>transcript_status</th>\n",
       "      <th>transcript_name</th>\n",
       "      <th>exon_number</th>\n",
       "      <th>exon_id</th>\n",
       "      <th>level</th>\n",
       "      <th>protein_id</th>\n",
       "      <th>tag</th>\n",
       "      <th>ccdsid</th>\n",
       "      <th>havana_gene</th>\n",
       "      <th>havana_transcript</th>\n",
       "    </tr>\n",
       "  </thead>\n",
       "  <tbody>\n",
       "    <tr>\n",
       "      <th>0</th>\n",
       "      <td>LIB-ZIIEJE</td>\n",
       "      <td>chr1</td>\n",
       "      <td>3598930</td>\n",
       "      <td>3598995</td>\n",
       "      <td>[-0.735294, -0.735294, -0.735294, -0.735294, -...</td>\n",
       "      <td>ENSG00000078900.10</td>\n",
       "      <td>ENST00000378295.4</td>\n",
       "      <td>protein_coding</td>\n",
       "      <td>KNOWN</td>\n",
       "      <td>TP73</td>\n",
       "      <td>...</td>\n",
       "      <td>KNOWN</td>\n",
       "      <td>TP73-001</td>\n",
       "      <td>2</td>\n",
       "      <td>ENSE00000868857.1</td>\n",
       "      <td>2</td>\n",
       "      <td>ENSP00000367545.4</td>\n",
       "      <td>CCDS</td>\n",
       "      <td>CCDS49.1</td>\n",
       "      <td>OTTHUMG00000000610.5</td>\n",
       "      <td>OTTHUMT00000001468.4</td>\n",
       "    </tr>\n",
       "    <tr>\n",
       "      <th>1</th>\n",
       "      <td>LIB-ZIIEJE</td>\n",
       "      <td>chr1</td>\n",
       "      <td>3599624</td>\n",
       "      <td>3599745</td>\n",
       "      <td>[-0.780822, -0.780822, -0.780822, -0.780822, -...</td>\n",
       "      <td>ENSG00000078900.10</td>\n",
       "      <td>ENST00000378295.4</td>\n",
       "      <td>protein_coding</td>\n",
       "      <td>KNOWN</td>\n",
       "      <td>TP73</td>\n",
       "      <td>...</td>\n",
       "      <td>KNOWN</td>\n",
       "      <td>TP73-001</td>\n",
       "      <td>3</td>\n",
       "      <td>ENSE00000358575.1</td>\n",
       "      <td>2</td>\n",
       "      <td>ENSP00000367545.4</td>\n",
       "      <td>CCDS</td>\n",
       "      <td>CCDS49.1</td>\n",
       "      <td>OTTHUMG00000000610.5</td>\n",
       "      <td>OTTHUMT00000001468.4</td>\n",
       "    </tr>\n",
       "  </tbody>\n",
       "</table>\n",
       "<p>2 rows × 21 columns</p>\n",
       "</div>"
      ],
      "text/plain": [
       "            0     1        2        3  \\\n",
       "0  LIB-ZIIEJE  chr1  3598930  3598995   \n",
       "1  LIB-ZIIEJE  chr1  3599624  3599745   \n",
       "\n",
       "                                                   4             gene_id  \\\n",
       "0  [-0.735294, -0.735294, -0.735294, -0.735294, -...  ENSG00000078900.10   \n",
       "1  [-0.780822, -0.780822, -0.780822, -0.780822, -...  ENSG00000078900.10   \n",
       "\n",
       "       transcript_id       gene_type gene_status gene_name  ...  \\\n",
       "0  ENST00000378295.4  protein_coding       KNOWN      TP73  ...   \n",
       "1  ENST00000378295.4  protein_coding       KNOWN      TP73  ...   \n",
       "\n",
       "  transcript_status transcript_name exon_number            exon_id level  \\\n",
       "0             KNOWN        TP73-001           2  ENSE00000868857.1     2   \n",
       "1             KNOWN        TP73-001           3  ENSE00000358575.1     2   \n",
       "\n",
       "          protein_id   tag    ccdsid           havana_gene  \\\n",
       "0  ENSP00000367545.4  CCDS  CCDS49.1  OTTHUMG00000000610.5   \n",
       "1  ENSP00000367545.4  CCDS  CCDS49.1  OTTHUMG00000000610.5   \n",
       "\n",
       "      havana_transcript  \n",
       "0  OTTHUMT00000001468.4  \n",
       "1  OTTHUMT00000001468.4  \n",
       "\n",
       "[2 rows x 21 columns]"
      ]
     },
     "execution_count": 8,
     "metadata": {},
     "output_type": "execute_result"
    }
   ],
   "source": [
    "samples.head(2)"
   ]
  },
  {
   "cell_type": "code",
   "execution_count": 9,
   "metadata": {},
   "outputs": [],
   "source": [
    "# Remove all entries with chromosome X and Y\n",
    "samples = samples[samples['1'] != 'chrX'] #to remove all entries with chromosome X and cromosome Y \n",
    "samples = samples[samples['1'] != 'chrY']\n",
    "samples['gene_exon'] = samples['gene_id'] + '_' + samples['exon_number'].map(str) #Makes a unique ID from gene id and exon number"
   ]
  },
  {
   "cell_type": "code",
   "execution_count": 27,
   "metadata": {},
   "outputs": [],
   "source": [
    "test = samples['4'][0]"
   ]
  },
  {
   "cell_type": "code",
   "execution_count": 29,
   "metadata": {},
   "outputs": [
    {
     "data": {
      "text/plain": [
       "[<matplotlib.lines.Line2D at 0x1a37ca76d0>]"
      ]
     },
     "execution_count": 29,
     "metadata": {},
     "output_type": "execute_result"
    },
    {
     "data": {
      "image/png": "[encoded data removed]",
      "text/plain": [
       "<Figure size 432x288 with 1 Axes>"
      ]
     },
     "metadata": {
      "needs_background": "light"
     },
     "output_type": "display_data"
    }
   ],
   "source": [
    "import matplotlib.pyplot as plt\n",
    "plt.plot(test)"
   ]
  },
  {
   "cell_type": "code",
   "execution_count": 64,
   "metadata": {},
   "outputs": [],
   "source": [
    "# All the statistical features are listed here\n",
    "# Call a specific function by its id_value\n",
    "def statistical_Features(results, id_value):\n",
    "    if id_value == 1: # Amplitude / Range\n",
    "        return(np.max(results)-np.min(results))\n",
    "    if id_value == 2: # WPS length\n",
    "        return len(results)\n",
    "    if id_value == 3:\n",
    "        return(np.nanpercentile(results, 5))\n",
    "    if id_value == 4:\n",
    "        return(np.nanpercentile(results, 25))\n",
    "    if id_value == 5:\n",
    "        return(np.nanpercentile(results, 75))\n",
    "    if id_value == 6:\n",
    "        return(np.nanpercentile(results, 95))\n",
    "    if id_value == 7: \n",
    "        return(np.nanpercentile(results, 50))\n",
    "    if id_value == 8: # Variance\n",
    "        return (np.var(results))\n",
    "    if id_value == 9: # FFT\n",
    "        f, pxx = welch(results)\n",
    "        return (f[np.argmax(pxx)])\n",
    "    if id_value == 10: # Area under Curve\n",
    "        return (np.trapz(results))\n",
    "    if id_value == 11: # Power Feature\n",
    "        z = np.multiply(results,results)\n",
    "        return (np.sum(z)/z.size)\n",
    "    if id_value == 12: # Mean\n",
    "        return (np.mean(results))\n",
    "    if id_value == 13: # 2nd peak in autocorrelation (period length)\n",
    "        autocorr = np.correlate(results, results, mode='full')[len(results)-1:]\n",
    "        peaks_autocorr,_ = find_peaks(autocorr, height=0)\n",
    "        if len(peaks_autocorr) > 0:\n",
    "            return peaks_autocorr[0]\n",
    "        else:\n",
    "            return None"
   ]
  },
  {
   "cell_type": "code",
   "execution_count": 43,
   "metadata": {},
   "outputs": [],
   "source": [
    "def crossing_Features(results, id_value):\n",
    "    if id_value == 1:\n",
    "        zero_crossing_indices = np.nonzero(np.diff(np.array(results) > 0))[0]\n",
    "        no_zero_crossings = len(zero_crossing_indices)\n",
    "        return (no_zero_crossings)\n",
    "    if id_value == 2:\n",
    "        mean_crossing_indices = np.nonzero(np.diff(np.array(results) > np.nanmean(results)))[0]\n",
    "        no_mean_crossings = len(mean_crossing_indices)\n",
    "        return (no_mean_crossings)"
   ]
  },
  {
   "cell_type": "code",
   "execution_count": 85,
   "metadata": {},
   "outputs": [],
   "source": [
    "def group_by_pivot_table(dat, by, variable):\n",
    "    data = dat.groupby(['0', by])[variable].mean().reset_index()\n",
    "    data = data.pivot_table(values = variable, index = data['0'], columns=by, aggfunc='first').reset_index()\n",
    "    data = data.add_prefix(''.join([variable,'_']))\n",
    "    data = data.rename(columns = {''.join([variable,'_',str(0)]):'0'})\n",
    "    return(data)"
   ]
  },
  {
   "cell_type": "code",
   "execution_count": 35,
   "metadata": {},
   "outputs": [
    {
     "name": "stdout",
     "output_type": "stream",
     "text": [
      "Begining statistical calculations\n"
     ]
    },
    {
     "ename": "AttributeError",
     "evalue": "'list' object has no attribute 'replace'",
     "output_type": "error",
     "traceback": [
      "\u001b[0;31m---------------------------------------------------------------------------\u001b[0m",
      "\u001b[0;31mAttributeError\u001b[0m                            Traceback (most recent call last)",
      "\u001b[0;32m<ipython-input-35-a8fed0962b29>\u001b[0m in \u001b[0;36m<module>\u001b[0;34m\u001b[0m\n\u001b[1;32m      4\u001b[0m '''   \n\u001b[1;32m      5\u001b[0m \u001b[0mprint\u001b[0m\u001b[0;34m(\u001b[0m\u001b[0;34m'Begining statistical calculations'\u001b[0m\u001b[0;34m)\u001b[0m\u001b[0;34m\u001b[0m\u001b[0;34m\u001b[0m\u001b[0m\n\u001b[0;32m----> 6\u001b[0;31m \u001b[0msamples\u001b[0m\u001b[0;34m[\u001b[0m\u001b[0;34m'Amplitude'\u001b[0m\u001b[0;34m]\u001b[0m\u001b[0;34m=\u001b[0m \u001b[0msamples\u001b[0m\u001b[0;34m[\u001b[0m\u001b[0;34m'4'\u001b[0m\u001b[0;34m]\u001b[0m\u001b[0;34m.\u001b[0m\u001b[0mapply\u001b[0m\u001b[0;34m(\u001b[0m\u001b[0;32mlambda\u001b[0m \u001b[0mrow\u001b[0m \u001b[0;34m:\u001b[0m \u001b[0mstatistical_Features\u001b[0m\u001b[0;34m(\u001b[0m\u001b[0mrow\u001b[0m\u001b[0;34m,\u001b[0m\u001b[0;36m1\u001b[0m\u001b[0;34m)\u001b[0m \u001b[0;34m)\u001b[0m\u001b[0;34m\u001b[0m\u001b[0;34m\u001b[0m\u001b[0m\n\u001b[0m\u001b[1;32m      7\u001b[0m \u001b[0mprint\u001b[0m\u001b[0;34m(\u001b[0m\u001b[0;34m'Amplitude complete'\u001b[0m\u001b[0;34m)\u001b[0m\u001b[0;34m\u001b[0m\u001b[0;34m\u001b[0m\u001b[0m\n\u001b[1;32m      8\u001b[0m \u001b[0msamples\u001b[0m\u001b[0;34m[\u001b[0m\u001b[0;34m'WPS_Length'\u001b[0m\u001b[0;34m]\u001b[0m\u001b[0;34m=\u001b[0m \u001b[0msamples\u001b[0m\u001b[0;34m[\u001b[0m\u001b[0;34m'4'\u001b[0m\u001b[0;34m]\u001b[0m\u001b[0;34m.\u001b[0m\u001b[0mapply\u001b[0m\u001b[0;34m(\u001b[0m\u001b[0;32mlambda\u001b[0m \u001b[0mrow\u001b[0m \u001b[0;34m:\u001b[0m \u001b[0mstatistical_Features\u001b[0m\u001b[0;34m(\u001b[0m\u001b[0mrow\u001b[0m\u001b[0;34m,\u001b[0m\u001b[0;36m2\u001b[0m\u001b[0;34m)\u001b[0m \u001b[0;34m)\u001b[0m\u001b[0;34m\u001b[0m\u001b[0;34m\u001b[0m\u001b[0m\n",
      "\u001b[0;32m~/opt/anaconda3/lib/python3.7/site-packages/pandas/core/series.py\u001b[0m in \u001b[0;36mapply\u001b[0;34m(self, func, convert_dtype, args, **kwds)\u001b[0m\n\u001b[1;32m   3846\u001b[0m             \u001b[0;32melse\u001b[0m\u001b[0;34m:\u001b[0m\u001b[0;34m\u001b[0m\u001b[0;34m\u001b[0m\u001b[0m\n\u001b[1;32m   3847\u001b[0m                 \u001b[0mvalues\u001b[0m \u001b[0;34m=\u001b[0m \u001b[0mself\u001b[0m\u001b[0;34m.\u001b[0m\u001b[0mastype\u001b[0m\u001b[0;34m(\u001b[0m\u001b[0mobject\u001b[0m\u001b[0;34m)\u001b[0m\u001b[0;34m.\u001b[0m\u001b[0mvalues\u001b[0m\u001b[0;34m\u001b[0m\u001b[0;34m\u001b[0m\u001b[0m\n\u001b[0;32m-> 3848\u001b[0;31m                 \u001b[0mmapped\u001b[0m \u001b[0;34m=\u001b[0m \u001b[0mlib\u001b[0m\u001b[0;34m.\u001b[0m\u001b[0mmap_infer\u001b[0m\u001b[0;34m(\u001b[0m\u001b[0mvalues\u001b[0m\u001b[0;34m,\u001b[0m \u001b[0mf\u001b[0m\u001b[0;34m,\u001b[0m \u001b[0mconvert\u001b[0m\u001b[0;34m=\u001b[0m\u001b[0mconvert_dtype\u001b[0m\u001b[0;34m)\u001b[0m\u001b[0;34m\u001b[0m\u001b[0;34m\u001b[0m\u001b[0m\n\u001b[0m\u001b[1;32m   3849\u001b[0m \u001b[0;34m\u001b[0m\u001b[0m\n\u001b[1;32m   3850\u001b[0m         \u001b[0;32mif\u001b[0m \u001b[0mlen\u001b[0m\u001b[0;34m(\u001b[0m\u001b[0mmapped\u001b[0m\u001b[0;34m)\u001b[0m \u001b[0;32mand\u001b[0m \u001b[0misinstance\u001b[0m\u001b[0;34m(\u001b[0m\u001b[0mmapped\u001b[0m\u001b[0;34m[\u001b[0m\u001b[0;36m0\u001b[0m\u001b[0;34m]\u001b[0m\u001b[0;34m,\u001b[0m \u001b[0mSeries\u001b[0m\u001b[0;34m)\u001b[0m\u001b[0;34m:\u001b[0m\u001b[0;34m\u001b[0m\u001b[0;34m\u001b[0m\u001b[0m\n",
      "\u001b[0;32mpandas/_libs/lib.pyx\u001b[0m in \u001b[0;36mpandas._libs.lib.map_infer\u001b[0;34m()\u001b[0m\n",
      "\u001b[0;32m<ipython-input-35-a8fed0962b29>\u001b[0m in \u001b[0;36m<lambda>\u001b[0;34m(row)\u001b[0m\n\u001b[1;32m      4\u001b[0m '''   \n\u001b[1;32m      5\u001b[0m \u001b[0mprint\u001b[0m\u001b[0;34m(\u001b[0m\u001b[0;34m'Begining statistical calculations'\u001b[0m\u001b[0;34m)\u001b[0m\u001b[0;34m\u001b[0m\u001b[0;34m\u001b[0m\u001b[0m\n\u001b[0;32m----> 6\u001b[0;31m \u001b[0msamples\u001b[0m\u001b[0;34m[\u001b[0m\u001b[0;34m'Amplitude'\u001b[0m\u001b[0;34m]\u001b[0m\u001b[0;34m=\u001b[0m \u001b[0msamples\u001b[0m\u001b[0;34m[\u001b[0m\u001b[0;34m'4'\u001b[0m\u001b[0;34m]\u001b[0m\u001b[0;34m.\u001b[0m\u001b[0mapply\u001b[0m\u001b[0;34m(\u001b[0m\u001b[0;32mlambda\u001b[0m \u001b[0mrow\u001b[0m \u001b[0;34m:\u001b[0m \u001b[0mstatistical_Features\u001b[0m\u001b[0;34m(\u001b[0m\u001b[0mrow\u001b[0m\u001b[0;34m,\u001b[0m\u001b[0;36m1\u001b[0m\u001b[0;34m)\u001b[0m \u001b[0;34m)\u001b[0m\u001b[0;34m\u001b[0m\u001b[0;34m\u001b[0m\u001b[0m\n\u001b[0m\u001b[1;32m      7\u001b[0m \u001b[0mprint\u001b[0m\u001b[0;34m(\u001b[0m\u001b[0;34m'Amplitude complete'\u001b[0m\u001b[0;34m)\u001b[0m\u001b[0;34m\u001b[0m\u001b[0;34m\u001b[0m\u001b[0m\n\u001b[1;32m      8\u001b[0m \u001b[0msamples\u001b[0m\u001b[0;34m[\u001b[0m\u001b[0;34m'WPS_Length'\u001b[0m\u001b[0;34m]\u001b[0m\u001b[0;34m=\u001b[0m \u001b[0msamples\u001b[0m\u001b[0;34m[\u001b[0m\u001b[0;34m'4'\u001b[0m\u001b[0;34m]\u001b[0m\u001b[0;34m.\u001b[0m\u001b[0mapply\u001b[0m\u001b[0;34m(\u001b[0m\u001b[0;32mlambda\u001b[0m \u001b[0mrow\u001b[0m \u001b[0;34m:\u001b[0m \u001b[0mstatistical_Features\u001b[0m\u001b[0;34m(\u001b[0m\u001b[0mrow\u001b[0m\u001b[0;34m,\u001b[0m\u001b[0;36m2\u001b[0m\u001b[0;34m)\u001b[0m \u001b[0;34m)\u001b[0m\u001b[0;34m\u001b[0m\u001b[0;34m\u001b[0m\u001b[0m\n",
      "\u001b[0;32m<ipython-input-30-ad1901c5e4e9>\u001b[0m in \u001b[0;36mstatistical_Features\u001b[0;34m(x, id_value)\u001b[0m\n\u001b[1;32m      4\u001b[0m     \u001b[0mits\u001b[0m \u001b[0mid_value\u001b[0m\u001b[0;34m\u001b[0m\u001b[0;34m\u001b[0m\u001b[0m\n\u001b[1;32m      5\u001b[0m     '''\n\u001b[0;32m----> 6\u001b[0;31m     \u001b[0mp\u001b[0m \u001b[0;34m=\u001b[0m \u001b[0mx\u001b[0m\u001b[0;34m.\u001b[0m\u001b[0mreplace\u001b[0m\u001b[0;34m(\u001b[0m\u001b[0;34m\"\\'\"\u001b[0m\u001b[0;34m,\u001b[0m \u001b[0;34m\"\"\u001b[0m\u001b[0;34m)\u001b[0m\u001b[0;34m.\u001b[0m\u001b[0msplit\u001b[0m\u001b[0;34m(\u001b[0m\u001b[0;34m','\u001b[0m\u001b[0;34m)\u001b[0m\u001b[0;34m\u001b[0m\u001b[0;34m\u001b[0m\u001b[0m\n\u001b[0m\u001b[1;32m      7\u001b[0m     \u001b[0mresults\u001b[0m \u001b[0;34m=\u001b[0m \u001b[0mlist\u001b[0m\u001b[0;34m(\u001b[0m\u001b[0mmap\u001b[0m\u001b[0;34m(\u001b[0m\u001b[0mfloat\u001b[0m\u001b[0;34m,\u001b[0m \u001b[0mp\u001b[0m\u001b[0;34m)\u001b[0m\u001b[0;34m)\u001b[0m\u001b[0;34m\u001b[0m\u001b[0;34m\u001b[0m\u001b[0m\n\u001b[1;32m      8\u001b[0m     \u001b[0;32mif\u001b[0m \u001b[0mid_value\u001b[0m \u001b[0;34m==\u001b[0m \u001b[0;36m1\u001b[0m\u001b[0;34m:\u001b[0m \u001b[0;31m# Amplitude / Range\u001b[0m\u001b[0;34m\u001b[0m\u001b[0;34m\u001b[0m\u001b[0m\n",
      "\u001b[0;31mAttributeError\u001b[0m: 'list' object has no attribute 'replace'"
     ]
    }
   ],
   "source": [
    "print('Begining statistical calculations....')\n",
    "samples['Amplitude'] = samples['4'].apply(lambda row : statistical_Features(row,1) )\n",
    "print('Amplitude complete')\n",
    "samples['WPS_Length'] = samples['4'].apply(lambda row : statistical_Features(row,2) )\n",
    "print('WPS length complete')\n",
    "samples['Q5'] = samples['4'].apply(lambda row : statistical_Features(row,3) )\n",
    "print('Q5 complete')\n",
    "samples['Q25'] = samples['4'].apply(lambda row : statistical_Features(row,4) )\n",
    "print('Q25 complete')\n",
    "samples['Q75'] = samples['4'].apply(lambda row : statistical_Features(row,5) )\n",
    "print('Q75 complete')\n",
    "samples['Q95'] = samples['4'].apply(lambda row : statistical_Features(row,6) )\n",
    "print('Q95 complete')\n",
    "samples['Q50'] = samples['4'].apply(lambda row : statistical_Features(row,7) )\n",
    "print('Q50 complete')\n",
    "samples['Variance'] = samples['4'].apply(lambda row : statistical_Features(row,8) )\n",
    "print('Variance complete')\n",
    "samples['FFT'] = samples['4'].apply(lambda row : statistical_Features(row,9) )\n",
    "print('FFT Complete')\n",
    "samples['AUC'] = samples['4'].apply(lambda row : statistical_Features(row,10) )\n",
    "print('Area under the curve complete')\n",
    "samples['Power'] = samples['4'].apply(lambda row : statistical_Features(row,11) )\n",
    "print('Power Complete')\n",
    "samples['Mean'] = samples['4'].apply(lambda row : statistical_Features(row,12) )\n",
    "print('Mean Complete')\n",
    "samples['Autocorrelation'] = samples['4'].apply(lambda row : statistical_Features(row,13) )\n",
    "print('2nd peak in autocorrelation Complete')\n",
    "samples['Cross_zero'] = samples['4'].apply(lambda row : crossing_Features(row,1) )\n",
    "print ('Cross_zero complete')\n",
    "samples['Cross_mean'] = samples['4'].apply(lambda row : crossing_Features(row,2) )\n",
    "print ('Cross_mean complete')\n",
    "\n",
    "vars_list = ['Amplitude','WPS_Length','Q5','Q25','Q75','Q95','Q50','Variance','FFT','AUC','Power','Mean','Autocorrelation','Cross_zero','Cross_mean'] # List all the features you use here\n",
    "#group_by = ['1','gene_id','gene_exon'] # All the different levels that will be calculated. 1: Chromosome (macro), gene_id: gene, gene_exon: exon (micro)\n",
    "group_by = ['1']\n",
    "\n",
    "print('Combining results...')\n",
    "for g in group_by: #Calculates the mean at the different levels and combines the required data\n",
    "    Final_data = pd.DataFrame(columns = ['0']) \n",
    "    for i in vars_list:\n",
    "        dat = group_by_pivot_table(samples, g, i)\n",
    "        Final_data = Final_data.merge(dat, on = '0', how = 'outer') \n",
    "    Final_data.to_csv('{g}.csv')\n",
    "    del Final_data\n",
    "print('Done')"
   ]
  },
  {
   "cell_type": "code",
   "execution_count": 39,
   "metadata": {},
   "outputs": [
    {
     "name": "stdout",
     "output_type": "stream",
     "text": [
      "Begining statistical calculations\n",
      "Amplitude complete\n"
     ]
    }
   ],
   "source": [
    "print('Begining statistical calculations')\n",
    "samples['Amplitude'] = samples['4'].apply(lambda row : statistical_Features(row,1) )\n",
    "print('Amplitude complete')"
   ]
  },
  {
   "cell_type": "code",
   "execution_count": 40,
   "metadata": {},
   "outputs": [
    {
     "name": "stdout",
     "output_type": "stream",
     "text": [
      "WPS length complete\n"
     ]
    }
   ],
   "source": [
    "samples['WPS_Length'] = samples['4'].apply(lambda row : statistical_Features(row,2) )\n",
    "print('WPS length complete')"
   ]
  },
  {
   "cell_type": "code",
   "execution_count": 41,
   "metadata": {},
   "outputs": [
    {
     "name": "stdout",
     "output_type": "stream",
     "text": [
      "Q5 complete\n",
      "Q25 complete\n",
      "Q75 complete\n",
      "Q95 complete\n",
      "Q50 complete\n"
     ]
    }
   ],
   "source": [
    "samples['Q5'] = samples['4'].apply(lambda row : statistical_Features(row,3) )\n",
    "print('Q5 complete')\n",
    "samples['Q25'] = samples['4'].apply(lambda row : statistical_Features(row,4) )\n",
    "print('Q25 complete')\n",
    "samples['Q75'] = samples['4'].apply(lambda row : statistical_Features(row,5) )\n",
    "print('Q75 complete')\n",
    "samples['Q95'] = samples['4'].apply(lambda row : statistical_Features(row,6) )\n",
    "print('Q95 complete')\n",
    "samples['Q50'] = samples['4'].apply(lambda row : statistical_Features(row,7) )\n",
    "print('Q50 complete')"
   ]
  },
  {
   "cell_type": "code",
   "execution_count": 44,
   "metadata": {},
   "outputs": [
    {
     "name": "stdout",
     "output_type": "stream",
     "text": [
      "Variance complete\n",
      "Area under the curve complete\n",
      "Power Complete\n",
      "Mean Complete\n"
     ]
    }
   ],
   "source": [
    "samples['Variance'] = samples['4'].apply(lambda row : statistical_Features(row,8) )\n",
    "print('Variance complete')\n",
    "samples['AUC'] = samples['4'].apply(lambda row : statistical_Features(row,10) )\n",
    "print('Area under the curve complete')\n",
    "samples['Power'] = samples['4'].apply(lambda row : statistical_Features(row,11) )\n",
    "print('Power Complete')\n",
    "samples['Mean'] = samples['4'].apply(lambda row : statistical_Features(row,12) )\n",
    "print('Mean Complete')"
   ]
  },
  {
   "cell_type": "code",
   "execution_count": 65,
   "metadata": {},
   "outputs": [],
   "source": [
    "samples['Autocorrelation'] = samples['4'].apply(lambda row : statistical_Features(row,13) )"
   ]
  },
  {
   "cell_type": "code",
   "execution_count": 66,
   "metadata": {},
   "outputs": [
    {
     "name": "stdout",
     "output_type": "stream",
     "text": [
      "Cross_zero complete\n",
      "Cross_mean complete\n"
     ]
    }
   ],
   "source": [
    "samples['Cross_zero'] = samples['4'].apply(lambda row : crossing_Features(row,1) )\n",
    "print ('Cross_zero complete')\n",
    "samples['Cross_mean'] = samples['4'].apply(lambda row : crossing_Features(row,2) )\n",
    "print ('Cross_mean complete')"
   ]
  },
  {
   "cell_type": "code",
   "execution_count": 97,
   "metadata": {},
   "outputs": [],
   "source": [
    "vars_list = ['Amplitude','WPS_Length','Q5','Q25','Q75','Q95','Q50','Variance','AUC','Power','Mean','Autocorrelation','Cross_zero','Cross_mean'] # List all the features you use here\n",
    "#group_by = ['1','gene_id','gene_exon'] # All the different levels that will be calculated. 1: Chromosome (macro), gene_id: gene, gene_exon: exon (micro)\n",
    "group_by = ['1']"
   ]
  },
  {
   "cell_type": "code",
   "execution_count": 74,
   "metadata": {},
   "outputs": [
    {
     "data": {
      "text/html": [
       "<div>\n",
       "<style scoped>\n",
       "    .dataframe tbody tr th:only-of-type {\n",
       "        vertical-align: middle;\n",
       "    }\n",
       "\n",
       "    .dataframe tbody tr th {\n",
       "        vertical-align: top;\n",
       "    }\n",
       "\n",
       "    .dataframe thead th {\n",
       "        text-align: right;\n",
       "    }\n",
       "</style>\n",
       "<table border=\"1\" class=\"dataframe\">\n",
       "  <thead>\n",
       "    <tr style=\"text-align: right;\">\n",
       "      <th></th>\n",
       "      <th>0</th>\n",
       "      <th>1</th>\n",
       "      <th>2</th>\n",
       "      <th>3</th>\n",
       "      <th>4</th>\n",
       "      <th>gene_id</th>\n",
       "      <th>transcript_id</th>\n",
       "      <th>gene_type</th>\n",
       "      <th>gene_status</th>\n",
       "      <th>gene_name</th>\n",
       "      <th>...</th>\n",
       "      <th>Q75</th>\n",
       "      <th>Q95</th>\n",
       "      <th>Q50</th>\n",
       "      <th>Variance</th>\n",
       "      <th>AUC</th>\n",
       "      <th>Power</th>\n",
       "      <th>Mean</th>\n",
       "      <th>Autocorrelation</th>\n",
       "      <th>Cross_zero</th>\n",
       "      <th>Cross_mean</th>\n",
       "    </tr>\n",
       "  </thead>\n",
       "  <tbody>\n",
       "    <tr>\n",
       "      <th>0</th>\n",
       "      <td>LIB-ZIIEJE</td>\n",
       "      <td>chr1</td>\n",
       "      <td>3598930</td>\n",
       "      <td>3598995</td>\n",
       "      <td>[-0.735294, -0.735294, -0.735294, -0.735294, -...</td>\n",
       "      <td>ENSG00000078900.10</td>\n",
       "      <td>ENST00000378295.4</td>\n",
       "      <td>protein_coding</td>\n",
       "      <td>KNOWN</td>\n",
       "      <td>TP73</td>\n",
       "      <td>...</td>\n",
       "      <td>-0.935484</td>\n",
       "      <td>-0.735294</td>\n",
       "      <td>-1.064516</td>\n",
       "      <td>0.076643</td>\n",
       "      <td>-73.060491</td>\n",
       "      <td>1.381296</td>\n",
       "      <td>-1.142214</td>\n",
       "      <td>NaN</td>\n",
       "      <td>0</td>\n",
       "      <td>1</td>\n",
       "    </tr>\n",
       "    <tr>\n",
       "      <th>1</th>\n",
       "      <td>LIB-ZIIEJE</td>\n",
       "      <td>chr1</td>\n",
       "      <td>3599624</td>\n",
       "      <td>3599745</td>\n",
       "      <td>[-0.780822, -0.780822, -0.780822, -0.780822, -...</td>\n",
       "      <td>ENSG00000078900.10</td>\n",
       "      <td>ENST00000378295.4</td>\n",
       "      <td>protein_coding</td>\n",
       "      <td>KNOWN</td>\n",
       "      <td>TP73</td>\n",
       "      <td>...</td>\n",
       "      <td>-0.749120</td>\n",
       "      <td>-0.646049</td>\n",
       "      <td>-0.821884</td>\n",
       "      <td>0.142781</td>\n",
       "      <td>-123.969667</td>\n",
       "      <td>1.231936</td>\n",
       "      <td>-1.043626</td>\n",
       "      <td>NaN</td>\n",
       "      <td>0</td>\n",
       "      <td>1</td>\n",
       "    </tr>\n",
       "  </tbody>\n",
       "</table>\n",
       "<p>2 rows × 36 columns</p>\n",
       "</div>"
      ],
      "text/plain": [
       "            0     1        2        3  \\\n",
       "0  LIB-ZIIEJE  chr1  3598930  3598995   \n",
       "1  LIB-ZIIEJE  chr1  3599624  3599745   \n",
       "\n",
       "                                                   4             gene_id  \\\n",
       "0  [-0.735294, -0.735294, -0.735294, -0.735294, -...  ENSG00000078900.10   \n",
       "1  [-0.780822, -0.780822, -0.780822, -0.780822, -...  ENSG00000078900.10   \n",
       "\n",
       "       transcript_id       gene_type gene_status gene_name  ...       Q75  \\\n",
       "0  ENST00000378295.4  protein_coding       KNOWN      TP73  ... -0.935484   \n",
       "1  ENST00000378295.4  protein_coding       KNOWN      TP73  ... -0.749120   \n",
       "\n",
       "        Q95       Q50  Variance         AUC     Power      Mean  \\\n",
       "0 -0.735294 -1.064516  0.076643  -73.060491  1.381296 -1.142214   \n",
       "1 -0.646049 -0.821884  0.142781 -123.969667  1.231936 -1.043626   \n",
       "\n",
       "  Autocorrelation Cross_zero Cross_mean  \n",
       "0             NaN          0          1  \n",
       "1             NaN          0          1  \n",
       "\n",
       "[2 rows x 36 columns]"
      ]
     },
     "execution_count": 74,
     "metadata": {},
     "output_type": "execute_result"
    }
   ],
   "source": [
    "samples.head(2)"
   ]
  },
  {
   "cell_type": "code",
   "execution_count": 98,
   "metadata": {},
   "outputs": [
    {
     "name": "stdout",
     "output_type": "stream",
     "text": [
      "Combining results...\n",
      "Done\n"
     ]
    }
   ],
   "source": [
    "print('Combining results...')\n",
    "for g in group_by: #Calculates the mean at the different levels and combines the required data\n",
    "    Final_data = pd.DataFrame(columns = ['0']) \n",
    "    for i in vars_list:\n",
    "        dat = group_by_pivot_table(samples, g, i)\n",
    "        Final_data = Final_data.merge(dat, on = '0', how = 'outer') \n",
    "    Final_data.to_csv('{g}.csv')\n",
    "    del Final_data\n",
    "print('Done')"
   ]
  }
 ],
 "metadata": {
  "kernelspec": {
   "display_name": "Python 3",
   "language": "python",
   "name": "python3"
  },
  "language_info": {
   "codemirror_mode": {
    "name": "ipython",
    "version": 3
   },
   "file_extension": ".py",
   "mimetype": "text/x-python",
   "name": "python",
   "nbconvert_exporter": "python",
   "pygments_lexer": "ipython3",
   "version": "3.7.6"
  }
 },
 "nbformat": 4,
 "nbformat_minor": 4
}
