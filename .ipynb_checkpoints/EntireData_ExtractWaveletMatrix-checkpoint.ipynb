{
 "cells": [
  {
   "cell_type": "code",
   "execution_count": 41,
   "metadata": {},
   "outputs": [
    {
     "name": "stderr",
     "output_type": "stream",
     "text": [
      "Using TensorFlow backend.\n"
     ]
    }
   ],
   "source": [
    "import pandas as pd\n",
    "import numpy as np\n",
    "import scipy as sp\n",
    "import string\n",
    "import random\n",
    "import re\n",
    "import collections\n",
    "import matplotlib.pyplot as plt\n",
    "\n",
    "import keras\n",
    "from keras.layers import Dense, Flatten\n",
    "from keras.layers import Conv2D, MaxPooling2D\n",
    "from keras.models import Sequential\n",
    "from keras.callbacks import History \n",
    "history = History()"
   ]
  },
  {
   "cell_type": "code",
   "execution_count": 2,
   "metadata": {},
   "outputs": [
    {
     "name": "stdout",
     "output_type": "stream",
     "text": [
      "Loading file...\n"
     ]
    }
   ],
   "source": [
    "print('Loading file...')\n",
    "file = '/Users/anamaria1/Desktop/Conferences/2019/Novartis/cfDNA/Hack9-DataAnalysisFolders/DATA.csv'\n",
    "samples = pd.read_csv(file,sep='\\t')"
   ]
  },
  {
   "cell_type": "code",
   "execution_count": 3,
   "metadata": {},
   "outputs": [
    {
     "name": "stdout",
     "output_type": "stream",
     "text": [
      "Beginning cleaning up file...\n"
     ]
    }
   ],
   "source": [
    "print('Beginning cleaning up file...')\n",
    "try: \n",
    "    del samples['Unnamed: 0']\n",
    "    del samples['5']\n",
    "except:\n",
    "    print('Handled')"
   ]
  },
  {
   "cell_type": "code",
   "execution_count": 4,
   "metadata": {},
   "outputs": [],
   "source": [
    "# Remove all entries with chromosome X and Y\n",
    "samples = samples[samples['1'] != 'chrX']\n",
    "samples = samples[samples['1'] != 'chrY']"
   ]
  },
  {
   "cell_type": "code",
   "execution_count": 5,
   "metadata": {},
   "outputs": [],
   "source": [
    "a = samples.groupby(['0','1'])['4'].apply(','.join).reset_index()"
   ]
  },
  {
   "cell_type": "code",
   "execution_count": 6,
   "metadata": {},
   "outputs": [],
   "source": [
    "def splitter(row):\n",
    "    p = re.split(',',row)\n",
    "    results = list(map(float, p))\n",
    "    return results"
   ]
  },
  {
   "cell_type": "code",
   "execution_count": 7,
   "metadata": {},
   "outputs": [
    {
     "name": "stdout",
     "output_type": "stream",
     "text": [
      "Write to file...\n",
      "Done\n"
     ]
    }
   ],
   "source": [
    "print('Write to file...')\n",
    "aa = a.pivot(index='0', columns='1', values='4')\n",
    "aa.to_csv('Data/ChrWPS.csv')\n",
    "print('Done')"
   ]
  },
  {
   "cell_type": "code",
   "execution_count": 302,
   "metadata": {},
   "outputs": [],
   "source": [
    "labels = pd.read_csv('Data/20190815_WPS_NORM.hackathon_sample_info.csv')\n",
    "data = aa\n",
    "data = data.reset_index()"
   ]
  },
  {
   "cell_type": "code",
   "execution_count": 9,
   "metadata": {},
   "outputs": [
    {
     "data": {
      "text/html": [
       "<div>\n",
       "<style scoped>\n",
       "    .dataframe tbody tr th:only-of-type {\n",
       "        vertical-align: middle;\n",
       "    }\n",
       "\n",
       "    .dataframe tbody tr th {\n",
       "        vertical-align: top;\n",
       "    }\n",
       "\n",
       "    .dataframe thead th {\n",
       "        text-align: right;\n",
       "    }\n",
       "</style>\n",
       "<table border=\"1\" class=\"dataframe\">\n",
       "  <thead>\n",
       "    <tr style=\"text-align: right;\">\n",
       "      <th>1</th>\n",
       "      <th>0</th>\n",
       "      <th>chr1</th>\n",
       "      <th>chr10</th>\n",
       "      <th>chr11</th>\n",
       "      <th>chr12</th>\n",
       "      <th>chr13</th>\n",
       "      <th>chr14</th>\n",
       "      <th>chr15</th>\n",
       "      <th>chr16</th>\n",
       "      <th>chr17</th>\n",
       "      <th>...</th>\n",
       "      <th>chr20</th>\n",
       "      <th>chr21</th>\n",
       "      <th>chr22</th>\n",
       "      <th>chr3</th>\n",
       "      <th>chr4</th>\n",
       "      <th>chr5</th>\n",
       "      <th>chr6</th>\n",
       "      <th>chr7</th>\n",
       "      <th>chr8</th>\n",
       "      <th>chr9</th>\n",
       "    </tr>\n",
       "  </thead>\n",
       "  <tbody>\n",
       "    <tr>\n",
       "      <th>0</th>\n",
       "      <td>LIB-ZIIEJE</td>\n",
       "      <td>-0.735294,-0.735294,-0.735294,-0.735294,-0.735...</td>\n",
       "      <td>-0.828169,-0.835655,-0.846797,-0.850416,-0.842...</td>\n",
       "      <td>-1.844444,-1.900000,-1.902174,-1.872340,-1.836...</td>\n",
       "      <td>-1.420561,-1.410714,-1.392857,-1.353448,-1.336...</td>\n",
       "      <td>-3.133333,-3.032258,-2.906250,-2.906250,-2.735...</td>\n",
       "      <td>-0.588889,-0.600000,-0.611111,-0.596685,-0.607...</td>\n",
       "      <td>-0.835821,-0.835821,-0.798030,-0.786408,-0.739...</td>\n",
       "      <td>-0.548023,-0.562500,-0.573864,-0.517045,-0.531...</td>\n",
       "      <td>-0.766355,-0.803738,-0.800000,-0.763636,-0.756...</td>\n",
       "      <td>...</td>\n",
       "      <td>-2.142857,-2.142857,-2.380952,-2.428571,-2.476...</td>\n",
       "      <td>-0.790419,-0.796407,-0.791667,-0.786982,-0.763...</td>\n",
       "      <td>-1.794118,-1.794118,-1.794118,-1.794118,-1.742...</td>\n",
       "      <td>-0.842857,-0.779904,-0.770335,-0.780952,-0.772...</td>\n",
       "      <td>-1.354839,-1.305263,-1.315789,-1.347368,-1.343...</td>\n",
       "      <td>-1.266667,-1.250000,-1.267399,-1.261029,-1.238...</td>\n",
       "      <td>-3.590909,-3.727273,-3.818182,-3.818182,-3.818...</td>\n",
       "      <td>-1.692810,-1.718954,-1.664557,-1.650000,-1.600...</td>\n",
       "      <td>-0.625000,-0.669903,-0.669903,-0.669903,-0.747...</td>\n",
       "      <td>-3.285714,-3.285714,-3.428571,-3.428571,-3.000...</td>\n",
       "    </tr>\n",
       "    <tr>\n",
       "      <th>1</th>\n",
       "      <td>LIB-ZIIEJK</td>\n",
       "      <td>-0.535354,-0.561224,-0.581633,-0.581633,-0.608...</td>\n",
       "      <td>-1.007299,-0.996390,-0.985765,-0.975177,-0.964...</td>\n",
       "      <td>-1.884892,-1.832168,-1.733333,-1.688742,-1.626...</td>\n",
       "      <td>-1.869919,-1.817460,-1.812500,-1.829457,-1.781...</td>\n",
       "      <td>-2.469697,-2.411765,-2.352113,-2.310811,-2.250...</td>\n",
       "      <td>-0.713836,-0.737342,-0.722397,-0.735016,-0.745...</td>\n",
       "      <td>-0.679487,-0.696774,-0.670968,-0.670968,-0.647...</td>\n",
       "      <td>-0.579439,-0.556250,-0.523364,-0.495356,-0.500...</td>\n",
       "      <td>-0.734824,-0.745223,-0.712934,-0.718750,-0.741...</td>\n",
       "      <td>...</td>\n",
       "      <td>-1.945946,-1.945946,-1.947368,-1.948718,-1.900...</td>\n",
       "      <td>-1.197740,-1.200000,-1.203297,-1.230769,-1.224...</td>\n",
       "      <td>-2.338462,-2.272727,-2.287879,-2.235294,-2.231...</td>\n",
       "      <td>-0.750000,-0.750000,-0.750000,-0.793103,-0.810...</td>\n",
       "      <td>-1.200000,-1.192926,-1.186709,-1.175000,-1.141...</td>\n",
       "      <td>-1.309890,-1.315904,-1.309013,-1.288136,-1.266...</td>\n",
       "      <td>-3.414634,-3.560976,-3.609756,-3.595238,-3.477...</td>\n",
       "      <td>-1.826772,-1.810811,-1.770677,-1.761029,-1.764...</td>\n",
       "      <td>-0.821429,-0.817746,-0.826506,-0.873479,-0.886...</td>\n",
       "      <td>-2.255814,-2.204545,-2.200000,-2.222222,-2.195...</td>\n",
       "    </tr>\n",
       "  </tbody>\n",
       "</table>\n",
       "<p>2 rows × 23 columns</p>\n",
       "</div>"
      ],
      "text/plain": [
       "1           0                                               chr1  \\\n",
       "0  LIB-ZIIEJE  -0.735294,-0.735294,-0.735294,-0.735294,-0.735...   \n",
       "1  LIB-ZIIEJK  -0.535354,-0.561224,-0.581633,-0.581633,-0.608...   \n",
       "\n",
       "1                                              chr10  \\\n",
       "0  -0.828169,-0.835655,-0.846797,-0.850416,-0.842...   \n",
       "1  -1.007299,-0.996390,-0.985765,-0.975177,-0.964...   \n",
       "\n",
       "1                                              chr11  \\\n",
       "0  -1.844444,-1.900000,-1.902174,-1.872340,-1.836...   \n",
       "1  -1.884892,-1.832168,-1.733333,-1.688742,-1.626...   \n",
       "\n",
       "1                                              chr12  \\\n",
       "0  -1.420561,-1.410714,-1.392857,-1.353448,-1.336...   \n",
       "1  -1.869919,-1.817460,-1.812500,-1.829457,-1.781...   \n",
       "\n",
       "1                                              chr13  \\\n",
       "0  -3.133333,-3.032258,-2.906250,-2.906250,-2.735...   \n",
       "1  -2.469697,-2.411765,-2.352113,-2.310811,-2.250...   \n",
       "\n",
       "1                                              chr14  \\\n",
       "0  -0.588889,-0.600000,-0.611111,-0.596685,-0.607...   \n",
       "1  -0.713836,-0.737342,-0.722397,-0.735016,-0.745...   \n",
       "\n",
       "1                                              chr15  \\\n",
       "0  -0.835821,-0.835821,-0.798030,-0.786408,-0.739...   \n",
       "1  -0.679487,-0.696774,-0.670968,-0.670968,-0.647...   \n",
       "\n",
       "1                                              chr16  \\\n",
       "0  -0.548023,-0.562500,-0.573864,-0.517045,-0.531...   \n",
       "1  -0.579439,-0.556250,-0.523364,-0.495356,-0.500...   \n",
       "\n",
       "1                                              chr17  ...  \\\n",
       "0  -0.766355,-0.803738,-0.800000,-0.763636,-0.756...  ...   \n",
       "1  -0.734824,-0.745223,-0.712934,-0.718750,-0.741...  ...   \n",
       "\n",
       "1                                              chr20  \\\n",
       "0  -2.142857,-2.142857,-2.380952,-2.428571,-2.476...   \n",
       "1  -1.945946,-1.945946,-1.947368,-1.948718,-1.900...   \n",
       "\n",
       "1                                              chr21  \\\n",
       "0  -0.790419,-0.796407,-0.791667,-0.786982,-0.763...   \n",
       "1  -1.197740,-1.200000,-1.203297,-1.230769,-1.224...   \n",
       "\n",
       "1                                              chr22  \\\n",
       "0  -1.794118,-1.794118,-1.794118,-1.794118,-1.742...   \n",
       "1  -2.338462,-2.272727,-2.287879,-2.235294,-2.231...   \n",
       "\n",
       "1                                               chr3  \\\n",
       "0  -0.842857,-0.779904,-0.770335,-0.780952,-0.772...   \n",
       "1  -0.750000,-0.750000,-0.750000,-0.793103,-0.810...   \n",
       "\n",
       "1                                               chr4  \\\n",
       "0  -1.354839,-1.305263,-1.315789,-1.347368,-1.343...   \n",
       "1  -1.200000,-1.192926,-1.186709,-1.175000,-1.141...   \n",
       "\n",
       "1                                               chr5  \\\n",
       "0  -1.266667,-1.250000,-1.267399,-1.261029,-1.238...   \n",
       "1  -1.309890,-1.315904,-1.309013,-1.288136,-1.266...   \n",
       "\n",
       "1                                               chr6  \\\n",
       "0  -3.590909,-3.727273,-3.818182,-3.818182,-3.818...   \n",
       "1  -3.414634,-3.560976,-3.609756,-3.595238,-3.477...   \n",
       "\n",
       "1                                               chr7  \\\n",
       "0  -1.692810,-1.718954,-1.664557,-1.650000,-1.600...   \n",
       "1  -1.826772,-1.810811,-1.770677,-1.761029,-1.764...   \n",
       "\n",
       "1                                               chr8  \\\n",
       "0  -0.625000,-0.669903,-0.669903,-0.669903,-0.747...   \n",
       "1  -0.821429,-0.817746,-0.826506,-0.873479,-0.886...   \n",
       "\n",
       "1                                               chr9  \n",
       "0  -3.285714,-3.285714,-3.428571,-3.428571,-3.000...  \n",
       "1  -2.255814,-2.204545,-2.200000,-2.222222,-2.195...  \n",
       "\n",
       "[2 rows x 23 columns]"
      ]
     },
     "execution_count": 9,
     "metadata": {},
     "output_type": "execute_result"
    }
   ],
   "source": [
    "data.head(2)"
   ]
  },
  {
   "cell_type": "code",
   "execution_count": 10,
   "metadata": {
    "scrolled": true
   },
   "outputs": [
    {
     "ename": "KeyError",
     "evalue": "0",
     "output_type": "error",
     "traceback": [
      "\u001b[0;31m---------------------------------------------------------------------------\u001b[0m",
      "\u001b[0;31mKeyError\u001b[0m                                  Traceback (most recent call last)",
      "\u001b[0;32m~/opt/anaconda3/lib/python3.7/site-packages/pandas/core/indexes/base.py\u001b[0m in \u001b[0;36mget_loc\u001b[0;34m(self, key, method, tolerance)\u001b[0m\n\u001b[1;32m   2645\u001b[0m             \u001b[0;32mtry\u001b[0m\u001b[0;34m:\u001b[0m\u001b[0;34m\u001b[0m\u001b[0;34m\u001b[0m\u001b[0m\n\u001b[0;32m-> 2646\u001b[0;31m                 \u001b[0;32mreturn\u001b[0m \u001b[0mself\u001b[0m\u001b[0;34m.\u001b[0m\u001b[0m_engine\u001b[0m\u001b[0;34m.\u001b[0m\u001b[0mget_loc\u001b[0m\u001b[0;34m(\u001b[0m\u001b[0mkey\u001b[0m\u001b[0;34m)\u001b[0m\u001b[0;34m\u001b[0m\u001b[0;34m\u001b[0m\u001b[0m\n\u001b[0m\u001b[1;32m   2647\u001b[0m             \u001b[0;32mexcept\u001b[0m \u001b[0mKeyError\u001b[0m\u001b[0;34m:\u001b[0m\u001b[0;34m\u001b[0m\u001b[0;34m\u001b[0m\u001b[0m\n",
      "\u001b[0;32mpandas/_libs/index.pyx\u001b[0m in \u001b[0;36mpandas._libs.index.IndexEngine.get_loc\u001b[0;34m()\u001b[0m\n",
      "\u001b[0;32mpandas/_libs/index.pyx\u001b[0m in \u001b[0;36mpandas._libs.index.IndexEngine.get_loc\u001b[0;34m()\u001b[0m\n",
      "\u001b[0;32mpandas/_libs/hashtable_class_helper.pxi\u001b[0m in \u001b[0;36mpandas._libs.hashtable.PyObjectHashTable.get_item\u001b[0;34m()\u001b[0m\n",
      "\u001b[0;32mpandas/_libs/hashtable_class_helper.pxi\u001b[0m in \u001b[0;36mpandas._libs.hashtable.PyObjectHashTable.get_item\u001b[0;34m()\u001b[0m\n",
      "\u001b[0;31mKeyError\u001b[0m: 0",
      "\nDuring handling of the above exception, another exception occurred:\n",
      "\u001b[0;31mKeyError\u001b[0m                                  Traceback (most recent call last)",
      "\u001b[0;32m<ipython-input-10-34a1bc6d440f>\u001b[0m in \u001b[0;36m<module>\u001b[0;34m\u001b[0m\n\u001b[1;32m      1\u001b[0m \u001b[0mu\u001b[0m \u001b[0;34m=\u001b[0m \u001b[0mlist\u001b[0m\u001b[0;34m(\u001b[0m\u001b[0mlabels\u001b[0m\u001b[0;34m[\u001b[0m\u001b[0;34m'library'\u001b[0m\u001b[0;34m]\u001b[0m\u001b[0;34m)\u001b[0m\u001b[0;34m\u001b[0m\u001b[0;34m\u001b[0m\u001b[0m\n\u001b[0;32m----> 2\u001b[0;31m \u001b[0mdata\u001b[0m \u001b[0;34m=\u001b[0m \u001b[0mdata\u001b[0m\u001b[0;34m[\u001b[0m\u001b[0mdata\u001b[0m\u001b[0;34m[\u001b[0m\u001b[0;36m0\u001b[0m\u001b[0;34m]\u001b[0m\u001b[0;34m.\u001b[0m\u001b[0misin\u001b[0m\u001b[0;34m(\u001b[0m\u001b[0mu\u001b[0m\u001b[0;34m)\u001b[0m\u001b[0;34m]\u001b[0m\u001b[0;34m\u001b[0m\u001b[0;34m\u001b[0m\u001b[0m\n\u001b[0m\u001b[1;32m      3\u001b[0m \u001b[0mdata\u001b[0m \u001b[0;34m=\u001b[0m \u001b[0mdata\u001b[0m\u001b[0;34m.\u001b[0m\u001b[0mreset_index\u001b[0m\u001b[0;34m(\u001b[0m\u001b[0;34m)\u001b[0m\u001b[0;34m\u001b[0m\u001b[0;34m\u001b[0m\u001b[0m\n\u001b[1;32m      4\u001b[0m \u001b[0mlabels\u001b[0m\u001b[0;34m.\u001b[0m\u001b[0mrename\u001b[0m\u001b[0;34m(\u001b[0m\u001b[0mcolumns\u001b[0m\u001b[0;34m=\u001b[0m\u001b[0;34m{\u001b[0m\u001b[0;34m'library'\u001b[0m\u001b[0;34m:\u001b[0m\u001b[0;34m'PatientId'\u001b[0m\u001b[0;34m}\u001b[0m\u001b[0;34m,\u001b[0m \u001b[0minplace\u001b[0m\u001b[0;34m=\u001b[0m\u001b[0;32mTrue\u001b[0m\u001b[0;34m)\u001b[0m\u001b[0;34m\u001b[0m\u001b[0;34m\u001b[0m\u001b[0m\n\u001b[1;32m      5\u001b[0m \u001b[0mdata\u001b[0m\u001b[0;34m.\u001b[0m\u001b[0mrename\u001b[0m\u001b[0;34m(\u001b[0m\u001b[0mcolumns\u001b[0m\u001b[0;34m=\u001b[0m\u001b[0;34m{\u001b[0m\u001b[0;34m'0'\u001b[0m\u001b[0;34m:\u001b[0m\u001b[0;34m'PatientId'\u001b[0m\u001b[0;34m}\u001b[0m\u001b[0;34m,\u001b[0m \u001b[0minplace\u001b[0m\u001b[0;34m=\u001b[0m\u001b[0;32mTrue\u001b[0m\u001b[0;34m)\u001b[0m\u001b[0;34m\u001b[0m\u001b[0;34m\u001b[0m\u001b[0m\n",
      "\u001b[0;32m~/opt/anaconda3/lib/python3.7/site-packages/pandas/core/frame.py\u001b[0m in \u001b[0;36m__getitem__\u001b[0;34m(self, key)\u001b[0m\n\u001b[1;32m   2798\u001b[0m             \u001b[0;32mif\u001b[0m \u001b[0mself\u001b[0m\u001b[0;34m.\u001b[0m\u001b[0mcolumns\u001b[0m\u001b[0;34m.\u001b[0m\u001b[0mnlevels\u001b[0m \u001b[0;34m>\u001b[0m \u001b[0;36m1\u001b[0m\u001b[0;34m:\u001b[0m\u001b[0;34m\u001b[0m\u001b[0;34m\u001b[0m\u001b[0m\n\u001b[1;32m   2799\u001b[0m                 \u001b[0;32mreturn\u001b[0m \u001b[0mself\u001b[0m\u001b[0;34m.\u001b[0m\u001b[0m_getitem_multilevel\u001b[0m\u001b[0;34m(\u001b[0m\u001b[0mkey\u001b[0m\u001b[0;34m)\u001b[0m\u001b[0;34m\u001b[0m\u001b[0;34m\u001b[0m\u001b[0m\n\u001b[0;32m-> 2800\u001b[0;31m             \u001b[0mindexer\u001b[0m \u001b[0;34m=\u001b[0m \u001b[0mself\u001b[0m\u001b[0;34m.\u001b[0m\u001b[0mcolumns\u001b[0m\u001b[0;34m.\u001b[0m\u001b[0mget_loc\u001b[0m\u001b[0;34m(\u001b[0m\u001b[0mkey\u001b[0m\u001b[0;34m)\u001b[0m\u001b[0;34m\u001b[0m\u001b[0;34m\u001b[0m\u001b[0m\n\u001b[0m\u001b[1;32m   2801\u001b[0m             \u001b[0;32mif\u001b[0m \u001b[0mis_integer\u001b[0m\u001b[0;34m(\u001b[0m\u001b[0mindexer\u001b[0m\u001b[0;34m)\u001b[0m\u001b[0;34m:\u001b[0m\u001b[0;34m\u001b[0m\u001b[0;34m\u001b[0m\u001b[0m\n\u001b[1;32m   2802\u001b[0m                 \u001b[0mindexer\u001b[0m \u001b[0;34m=\u001b[0m \u001b[0;34m[\u001b[0m\u001b[0mindexer\u001b[0m\u001b[0;34m]\u001b[0m\u001b[0;34m\u001b[0m\u001b[0;34m\u001b[0m\u001b[0m\n",
      "\u001b[0;32m~/opt/anaconda3/lib/python3.7/site-packages/pandas/core/indexes/base.py\u001b[0m in \u001b[0;36mget_loc\u001b[0;34m(self, key, method, tolerance)\u001b[0m\n\u001b[1;32m   2646\u001b[0m                 \u001b[0;32mreturn\u001b[0m \u001b[0mself\u001b[0m\u001b[0;34m.\u001b[0m\u001b[0m_engine\u001b[0m\u001b[0;34m.\u001b[0m\u001b[0mget_loc\u001b[0m\u001b[0;34m(\u001b[0m\u001b[0mkey\u001b[0m\u001b[0;34m)\u001b[0m\u001b[0;34m\u001b[0m\u001b[0;34m\u001b[0m\u001b[0m\n\u001b[1;32m   2647\u001b[0m             \u001b[0;32mexcept\u001b[0m \u001b[0mKeyError\u001b[0m\u001b[0;34m:\u001b[0m\u001b[0;34m\u001b[0m\u001b[0;34m\u001b[0m\u001b[0m\n\u001b[0;32m-> 2648\u001b[0;31m                 \u001b[0;32mreturn\u001b[0m \u001b[0mself\u001b[0m\u001b[0;34m.\u001b[0m\u001b[0m_engine\u001b[0m\u001b[0;34m.\u001b[0m\u001b[0mget_loc\u001b[0m\u001b[0;34m(\u001b[0m\u001b[0mself\u001b[0m\u001b[0;34m.\u001b[0m\u001b[0m_maybe_cast_indexer\u001b[0m\u001b[0;34m(\u001b[0m\u001b[0mkey\u001b[0m\u001b[0;34m)\u001b[0m\u001b[0;34m)\u001b[0m\u001b[0;34m\u001b[0m\u001b[0;34m\u001b[0m\u001b[0m\n\u001b[0m\u001b[1;32m   2649\u001b[0m         \u001b[0mindexer\u001b[0m \u001b[0;34m=\u001b[0m \u001b[0mself\u001b[0m\u001b[0;34m.\u001b[0m\u001b[0mget_indexer\u001b[0m\u001b[0;34m(\u001b[0m\u001b[0;34m[\u001b[0m\u001b[0mkey\u001b[0m\u001b[0;34m]\u001b[0m\u001b[0;34m,\u001b[0m \u001b[0mmethod\u001b[0m\u001b[0;34m=\u001b[0m\u001b[0mmethod\u001b[0m\u001b[0;34m,\u001b[0m \u001b[0mtolerance\u001b[0m\u001b[0;34m=\u001b[0m\u001b[0mtolerance\u001b[0m\u001b[0;34m)\u001b[0m\u001b[0;34m\u001b[0m\u001b[0;34m\u001b[0m\u001b[0m\n\u001b[1;32m   2650\u001b[0m         \u001b[0;32mif\u001b[0m \u001b[0mindexer\u001b[0m\u001b[0;34m.\u001b[0m\u001b[0mndim\u001b[0m \u001b[0;34m>\u001b[0m \u001b[0;36m1\u001b[0m \u001b[0;32mor\u001b[0m \u001b[0mindexer\u001b[0m\u001b[0;34m.\u001b[0m\u001b[0msize\u001b[0m \u001b[0;34m>\u001b[0m \u001b[0;36m1\u001b[0m\u001b[0;34m:\u001b[0m\u001b[0;34m\u001b[0m\u001b[0;34m\u001b[0m\u001b[0m\n",
      "\u001b[0;32mpandas/_libs/index.pyx\u001b[0m in \u001b[0;36mpandas._libs.index.IndexEngine.get_loc\u001b[0;34m()\u001b[0m\n",
      "\u001b[0;32mpandas/_libs/index.pyx\u001b[0m in \u001b[0;36mpandas._libs.index.IndexEngine.get_loc\u001b[0;34m()\u001b[0m\n",
      "\u001b[0;32mpandas/_libs/hashtable_class_helper.pxi\u001b[0m in \u001b[0;36mpandas._libs.hashtable.PyObjectHashTable.get_item\u001b[0;34m()\u001b[0m\n",
      "\u001b[0;32mpandas/_libs/hashtable_class_helper.pxi\u001b[0m in \u001b[0;36mpandas._libs.hashtable.PyObjectHashTable.get_item\u001b[0;34m()\u001b[0m\n",
      "\u001b[0;31mKeyError\u001b[0m: 0"
     ]
    }
   ],
   "source": [
    "u = list(labels['library'])\n",
    "data = data[data['0'].isin(u)]\n",
    "data = data.reset_index()\n",
    "labels.rename(columns={'library':'PatientId'}, inplace=True)\n",
    "data.rename(columns={'0':'PatientId'}, inplace=True)"
   ]
  },
  {
   "cell_type": "code",
   "execution_count": 15,
   "metadata": {},
   "outputs": [],
   "source": [
    "data = data.reset_index()\n",
    "labels.rename(columns={'library':'PatientId'}, inplace=True)\n",
    "data.rename(columns={'0':'PatientId'}, inplace=True)"
   ]
  },
  {
   "cell_type": "code",
   "execution_count": 16,
   "metadata": {},
   "outputs": [
    {
     "data": {
      "text/html": [
       "<div>\n",
       "<style scoped>\n",
       "    .dataframe tbody tr th:only-of-type {\n",
       "        vertical-align: middle;\n",
       "    }\n",
       "\n",
       "    .dataframe tbody tr th {\n",
       "        vertical-align: top;\n",
       "    }\n",
       "\n",
       "    .dataframe thead th {\n",
       "        text-align: right;\n",
       "    }\n",
       "</style>\n",
       "<table border=\"1\" class=\"dataframe\">\n",
       "  <thead>\n",
       "    <tr style=\"text-align: right;\">\n",
       "      <th>1</th>\n",
       "      <th>index</th>\n",
       "      <th>PatientId</th>\n",
       "      <th>chr1</th>\n",
       "      <th>chr10</th>\n",
       "      <th>chr11</th>\n",
       "      <th>chr12</th>\n",
       "      <th>chr13</th>\n",
       "      <th>chr14</th>\n",
       "      <th>chr15</th>\n",
       "      <th>chr16</th>\n",
       "      <th>...</th>\n",
       "      <th>chr20</th>\n",
       "      <th>chr21</th>\n",
       "      <th>chr22</th>\n",
       "      <th>chr3</th>\n",
       "      <th>chr4</th>\n",
       "      <th>chr5</th>\n",
       "      <th>chr6</th>\n",
       "      <th>chr7</th>\n",
       "      <th>chr8</th>\n",
       "      <th>chr9</th>\n",
       "    </tr>\n",
       "  </thead>\n",
       "  <tbody>\n",
       "    <tr>\n",
       "      <th>0</th>\n",
       "      <td>0</td>\n",
       "      <td>LIB-ZIIEJE</td>\n",
       "      <td>-0.735294,-0.735294,-0.735294,-0.735294,-0.735...</td>\n",
       "      <td>-0.828169,-0.835655,-0.846797,-0.850416,-0.842...</td>\n",
       "      <td>-1.844444,-1.900000,-1.902174,-1.872340,-1.836...</td>\n",
       "      <td>-1.420561,-1.410714,-1.392857,-1.353448,-1.336...</td>\n",
       "      <td>-3.133333,-3.032258,-2.906250,-2.906250,-2.735...</td>\n",
       "      <td>-0.588889,-0.600000,-0.611111,-0.596685,-0.607...</td>\n",
       "      <td>-0.835821,-0.835821,-0.798030,-0.786408,-0.739...</td>\n",
       "      <td>-0.548023,-0.562500,-0.573864,-0.517045,-0.531...</td>\n",
       "      <td>...</td>\n",
       "      <td>-2.142857,-2.142857,-2.380952,-2.428571,-2.476...</td>\n",
       "      <td>-0.790419,-0.796407,-0.791667,-0.786982,-0.763...</td>\n",
       "      <td>-1.794118,-1.794118,-1.794118,-1.794118,-1.742...</td>\n",
       "      <td>-0.842857,-0.779904,-0.770335,-0.780952,-0.772...</td>\n",
       "      <td>-1.354839,-1.305263,-1.315789,-1.347368,-1.343...</td>\n",
       "      <td>-1.266667,-1.250000,-1.267399,-1.261029,-1.238...</td>\n",
       "      <td>-3.590909,-3.727273,-3.818182,-3.818182,-3.818...</td>\n",
       "      <td>-1.692810,-1.718954,-1.664557,-1.650000,-1.600...</td>\n",
       "      <td>-0.625000,-0.669903,-0.669903,-0.669903,-0.747...</td>\n",
       "      <td>-3.285714,-3.285714,-3.428571,-3.428571,-3.000...</td>\n",
       "    </tr>\n",
       "    <tr>\n",
       "      <th>1</th>\n",
       "      <td>1</td>\n",
       "      <td>LIB-ZIIEJK</td>\n",
       "      <td>-0.535354,-0.561224,-0.581633,-0.581633,-0.608...</td>\n",
       "      <td>-1.007299,-0.996390,-0.985765,-0.975177,-0.964...</td>\n",
       "      <td>-1.884892,-1.832168,-1.733333,-1.688742,-1.626...</td>\n",
       "      <td>-1.869919,-1.817460,-1.812500,-1.829457,-1.781...</td>\n",
       "      <td>-2.469697,-2.411765,-2.352113,-2.310811,-2.250...</td>\n",
       "      <td>-0.713836,-0.737342,-0.722397,-0.735016,-0.745...</td>\n",
       "      <td>-0.679487,-0.696774,-0.670968,-0.670968,-0.647...</td>\n",
       "      <td>-0.579439,-0.556250,-0.523364,-0.495356,-0.500...</td>\n",
       "      <td>...</td>\n",
       "      <td>-1.945946,-1.945946,-1.947368,-1.948718,-1.900...</td>\n",
       "      <td>-1.197740,-1.200000,-1.203297,-1.230769,-1.224...</td>\n",
       "      <td>-2.338462,-2.272727,-2.287879,-2.235294,-2.231...</td>\n",
       "      <td>-0.750000,-0.750000,-0.750000,-0.793103,-0.810...</td>\n",
       "      <td>-1.200000,-1.192926,-1.186709,-1.175000,-1.141...</td>\n",
       "      <td>-1.309890,-1.315904,-1.309013,-1.288136,-1.266...</td>\n",
       "      <td>-3.414634,-3.560976,-3.609756,-3.595238,-3.477...</td>\n",
       "      <td>-1.826772,-1.810811,-1.770677,-1.761029,-1.764...</td>\n",
       "      <td>-0.821429,-0.817746,-0.826506,-0.873479,-0.886...</td>\n",
       "      <td>-2.255814,-2.204545,-2.200000,-2.222222,-2.195...</td>\n",
       "    </tr>\n",
       "  </tbody>\n",
       "</table>\n",
       "<p>2 rows × 24 columns</p>\n",
       "</div>"
      ],
      "text/plain": [
       "1  index   PatientId                                               chr1  \\\n",
       "0      0  LIB-ZIIEJE  -0.735294,-0.735294,-0.735294,-0.735294,-0.735...   \n",
       "1      1  LIB-ZIIEJK  -0.535354,-0.561224,-0.581633,-0.581633,-0.608...   \n",
       "\n",
       "1                                              chr10  \\\n",
       "0  -0.828169,-0.835655,-0.846797,-0.850416,-0.842...   \n",
       "1  -1.007299,-0.996390,-0.985765,-0.975177,-0.964...   \n",
       "\n",
       "1                                              chr11  \\\n",
       "0  -1.844444,-1.900000,-1.902174,-1.872340,-1.836...   \n",
       "1  -1.884892,-1.832168,-1.733333,-1.688742,-1.626...   \n",
       "\n",
       "1                                              chr12  \\\n",
       "0  -1.420561,-1.410714,-1.392857,-1.353448,-1.336...   \n",
       "1  -1.869919,-1.817460,-1.812500,-1.829457,-1.781...   \n",
       "\n",
       "1                                              chr13  \\\n",
       "0  -3.133333,-3.032258,-2.906250,-2.906250,-2.735...   \n",
       "1  -2.469697,-2.411765,-2.352113,-2.310811,-2.250...   \n",
       "\n",
       "1                                              chr14  \\\n",
       "0  -0.588889,-0.600000,-0.611111,-0.596685,-0.607...   \n",
       "1  -0.713836,-0.737342,-0.722397,-0.735016,-0.745...   \n",
       "\n",
       "1                                              chr15  \\\n",
       "0  -0.835821,-0.835821,-0.798030,-0.786408,-0.739...   \n",
       "1  -0.679487,-0.696774,-0.670968,-0.670968,-0.647...   \n",
       "\n",
       "1                                              chr16  ...  \\\n",
       "0  -0.548023,-0.562500,-0.573864,-0.517045,-0.531...  ...   \n",
       "1  -0.579439,-0.556250,-0.523364,-0.495356,-0.500...  ...   \n",
       "\n",
       "1                                              chr20  \\\n",
       "0  -2.142857,-2.142857,-2.380952,-2.428571,-2.476...   \n",
       "1  -1.945946,-1.945946,-1.947368,-1.948718,-1.900...   \n",
       "\n",
       "1                                              chr21  \\\n",
       "0  -0.790419,-0.796407,-0.791667,-0.786982,-0.763...   \n",
       "1  -1.197740,-1.200000,-1.203297,-1.230769,-1.224...   \n",
       "\n",
       "1                                              chr22  \\\n",
       "0  -1.794118,-1.794118,-1.794118,-1.794118,-1.742...   \n",
       "1  -2.338462,-2.272727,-2.287879,-2.235294,-2.231...   \n",
       "\n",
       "1                                               chr3  \\\n",
       "0  -0.842857,-0.779904,-0.770335,-0.780952,-0.772...   \n",
       "1  -0.750000,-0.750000,-0.750000,-0.793103,-0.810...   \n",
       "\n",
       "1                                               chr4  \\\n",
       "0  -1.354839,-1.305263,-1.315789,-1.347368,-1.343...   \n",
       "1  -1.200000,-1.192926,-1.186709,-1.175000,-1.141...   \n",
       "\n",
       "1                                               chr5  \\\n",
       "0  -1.266667,-1.250000,-1.267399,-1.261029,-1.238...   \n",
       "1  -1.309890,-1.315904,-1.309013,-1.288136,-1.266...   \n",
       "\n",
       "1                                               chr6  \\\n",
       "0  -3.590909,-3.727273,-3.818182,-3.818182,-3.818...   \n",
       "1  -3.414634,-3.560976,-3.609756,-3.595238,-3.477...   \n",
       "\n",
       "1                                               chr7  \\\n",
       "0  -1.692810,-1.718954,-1.664557,-1.650000,-1.600...   \n",
       "1  -1.826772,-1.810811,-1.770677,-1.761029,-1.764...   \n",
       "\n",
       "1                                               chr8  \\\n",
       "0  -0.625000,-0.669903,-0.669903,-0.669903,-0.747...   \n",
       "1  -0.821429,-0.817746,-0.826506,-0.873479,-0.886...   \n",
       "\n",
       "1                                               chr9  \n",
       "0  -3.285714,-3.285714,-3.428571,-3.428571,-3.000...  \n",
       "1  -2.255814,-2.204545,-2.200000,-2.222222,-2.195...  \n",
       "\n",
       "[2 rows x 24 columns]"
      ]
     },
     "execution_count": 16,
     "metadata": {},
     "output_type": "execute_result"
    }
   ],
   "source": [
    "data.head(2)"
   ]
  },
  {
   "cell_type": "code",
   "execution_count": 17,
   "metadata": {
    "scrolled": false
   },
   "outputs": [],
   "source": [
    "labels = labels.sort_values(by=['PatientId'])\n",
    "data = data.sort_values(by=['PatientId'])"
   ]
  },
  {
   "cell_type": "code",
   "execution_count": 297,
   "metadata": {},
   "outputs": [
    {
     "ename": "KeyError",
     "evalue": "'PatientId'",
     "output_type": "error",
     "traceback": [
      "\u001b[0;31m---------------------------------------------------------------------------\u001b[0m",
      "\u001b[0;31mKeyError\u001b[0m                                  Traceback (most recent call last)",
      "\u001b[0;32m~/opt/anaconda3/lib/python3.7/site-packages/pandas/core/indexes/base.py\u001b[0m in \u001b[0;36mget_loc\u001b[0;34m(self, key, method, tolerance)\u001b[0m\n\u001b[1;32m   2645\u001b[0m             \u001b[0;32mtry\u001b[0m\u001b[0;34m:\u001b[0m\u001b[0;34m\u001b[0m\u001b[0;34m\u001b[0m\u001b[0m\n\u001b[0;32m-> 2646\u001b[0;31m                 \u001b[0;32mreturn\u001b[0m \u001b[0mself\u001b[0m\u001b[0;34m.\u001b[0m\u001b[0m_engine\u001b[0m\u001b[0;34m.\u001b[0m\u001b[0mget_loc\u001b[0m\u001b[0;34m(\u001b[0m\u001b[0mkey\u001b[0m\u001b[0;34m)\u001b[0m\u001b[0;34m\u001b[0m\u001b[0;34m\u001b[0m\u001b[0m\n\u001b[0m\u001b[1;32m   2647\u001b[0m             \u001b[0;32mexcept\u001b[0m \u001b[0mKeyError\u001b[0m\u001b[0;34m:\u001b[0m\u001b[0;34m\u001b[0m\u001b[0;34m\u001b[0m\u001b[0m\n",
      "\u001b[0;32mpandas/_libs/index.pyx\u001b[0m in \u001b[0;36mpandas._libs.index.IndexEngine.get_loc\u001b[0;34m()\u001b[0m\n",
      "\u001b[0;32mpandas/_libs/index.pyx\u001b[0m in \u001b[0;36mpandas._libs.index.IndexEngine.get_loc\u001b[0;34m()\u001b[0m\n",
      "\u001b[0;32mpandas/_libs/hashtable_class_helper.pxi\u001b[0m in \u001b[0;36mpandas._libs.hashtable.PyObjectHashTable.get_item\u001b[0;34m()\u001b[0m\n",
      "\u001b[0;32mpandas/_libs/hashtable_class_helper.pxi\u001b[0m in \u001b[0;36mpandas._libs.hashtable.PyObjectHashTable.get_item\u001b[0;34m()\u001b[0m\n",
      "\u001b[0;31mKeyError\u001b[0m: 'PatientId'",
      "\nDuring handling of the above exception, another exception occurred:\n",
      "\u001b[0;31mKeyError\u001b[0m                                  Traceback (most recent call last)",
      "\u001b[0;32m<ipython-input-297-ee63d6951e2d>\u001b[0m in \u001b[0;36m<module>\u001b[0;34m\u001b[0m\n\u001b[1;32m      1\u001b[0m \u001b[0mnames\u001b[0m \u001b[0;34m=\u001b[0m \u001b[0mdata\u001b[0m\u001b[0;34m.\u001b[0m\u001b[0mcolumns\u001b[0m\u001b[0;34m\u001b[0m\u001b[0;34m\u001b[0m\u001b[0m\n\u001b[0;32m----> 2\u001b[0;31m \u001b[0msamples_id\u001b[0m \u001b[0;34m=\u001b[0m \u001b[0mlist\u001b[0m\u001b[0;34m(\u001b[0m\u001b[0mdata\u001b[0m\u001b[0;34m[\u001b[0m\u001b[0;34m'PatientId'\u001b[0m\u001b[0;34m]\u001b[0m\u001b[0;34m)\u001b[0m\u001b[0;34m\u001b[0m\u001b[0;34m\u001b[0m\u001b[0m\n\u001b[0m\u001b[1;32m      3\u001b[0m \u001b[0;32mdel\u001b[0m \u001b[0mdata\u001b[0m\u001b[0;34m[\u001b[0m\u001b[0;34m'PatientId'\u001b[0m\u001b[0;34m]\u001b[0m\u001b[0;34m\u001b[0m\u001b[0;34m\u001b[0m\u001b[0m\n\u001b[1;32m      4\u001b[0m \u001b[0;32mdel\u001b[0m \u001b[0mdata\u001b[0m\u001b[0;34m[\u001b[0m\u001b[0;34m'index'\u001b[0m\u001b[0;34m]\u001b[0m\u001b[0;34m\u001b[0m\u001b[0;34m\u001b[0m\u001b[0m\n\u001b[1;32m      5\u001b[0m \u001b[0mdata\u001b[0m\u001b[0;34m.\u001b[0m\u001b[0mdrop\u001b[0m\u001b[0;34m(\u001b[0m\u001b[0mdata\u001b[0m\u001b[0;34m.\u001b[0m\u001b[0mtail\u001b[0m\u001b[0;34m(\u001b[0m\u001b[0;36m313\u001b[0m\u001b[0;34m)\u001b[0m\u001b[0;34m.\u001b[0m\u001b[0mindex\u001b[0m\u001b[0;34m,\u001b[0m\u001b[0minplace\u001b[0m\u001b[0;34m=\u001b[0m\u001b[0;32mTrue\u001b[0m\u001b[0;34m)\u001b[0m\u001b[0;34m\u001b[0m\u001b[0;34m\u001b[0m\u001b[0m\n",
      "\u001b[0;32m~/opt/anaconda3/lib/python3.7/site-packages/pandas/core/frame.py\u001b[0m in \u001b[0;36m__getitem__\u001b[0;34m(self, key)\u001b[0m\n\u001b[1;32m   2798\u001b[0m             \u001b[0;32mif\u001b[0m \u001b[0mself\u001b[0m\u001b[0;34m.\u001b[0m\u001b[0mcolumns\u001b[0m\u001b[0;34m.\u001b[0m\u001b[0mnlevels\u001b[0m \u001b[0;34m>\u001b[0m \u001b[0;36m1\u001b[0m\u001b[0;34m:\u001b[0m\u001b[0;34m\u001b[0m\u001b[0;34m\u001b[0m\u001b[0m\n\u001b[1;32m   2799\u001b[0m                 \u001b[0;32mreturn\u001b[0m \u001b[0mself\u001b[0m\u001b[0;34m.\u001b[0m\u001b[0m_getitem_multilevel\u001b[0m\u001b[0;34m(\u001b[0m\u001b[0mkey\u001b[0m\u001b[0;34m)\u001b[0m\u001b[0;34m\u001b[0m\u001b[0;34m\u001b[0m\u001b[0m\n\u001b[0;32m-> 2800\u001b[0;31m             \u001b[0mindexer\u001b[0m \u001b[0;34m=\u001b[0m \u001b[0mself\u001b[0m\u001b[0;34m.\u001b[0m\u001b[0mcolumns\u001b[0m\u001b[0;34m.\u001b[0m\u001b[0mget_loc\u001b[0m\u001b[0;34m(\u001b[0m\u001b[0mkey\u001b[0m\u001b[0;34m)\u001b[0m\u001b[0;34m\u001b[0m\u001b[0;34m\u001b[0m\u001b[0m\n\u001b[0m\u001b[1;32m   2801\u001b[0m             \u001b[0;32mif\u001b[0m \u001b[0mis_integer\u001b[0m\u001b[0;34m(\u001b[0m\u001b[0mindexer\u001b[0m\u001b[0;34m)\u001b[0m\u001b[0;34m:\u001b[0m\u001b[0;34m\u001b[0m\u001b[0;34m\u001b[0m\u001b[0m\n\u001b[1;32m   2802\u001b[0m                 \u001b[0mindexer\u001b[0m \u001b[0;34m=\u001b[0m \u001b[0;34m[\u001b[0m\u001b[0mindexer\u001b[0m\u001b[0;34m]\u001b[0m\u001b[0;34m\u001b[0m\u001b[0;34m\u001b[0m\u001b[0m\n",
      "\u001b[0;32m~/opt/anaconda3/lib/python3.7/site-packages/pandas/core/indexes/base.py\u001b[0m in \u001b[0;36mget_loc\u001b[0;34m(self, key, method, tolerance)\u001b[0m\n\u001b[1;32m   2646\u001b[0m                 \u001b[0;32mreturn\u001b[0m \u001b[0mself\u001b[0m\u001b[0;34m.\u001b[0m\u001b[0m_engine\u001b[0m\u001b[0;34m.\u001b[0m\u001b[0mget_loc\u001b[0m\u001b[0;34m(\u001b[0m\u001b[0mkey\u001b[0m\u001b[0;34m)\u001b[0m\u001b[0;34m\u001b[0m\u001b[0;34m\u001b[0m\u001b[0m\n\u001b[1;32m   2647\u001b[0m             \u001b[0;32mexcept\u001b[0m \u001b[0mKeyError\u001b[0m\u001b[0;34m:\u001b[0m\u001b[0;34m\u001b[0m\u001b[0;34m\u001b[0m\u001b[0m\n\u001b[0;32m-> 2648\u001b[0;31m                 \u001b[0;32mreturn\u001b[0m \u001b[0mself\u001b[0m\u001b[0;34m.\u001b[0m\u001b[0m_engine\u001b[0m\u001b[0;34m.\u001b[0m\u001b[0mget_loc\u001b[0m\u001b[0;34m(\u001b[0m\u001b[0mself\u001b[0m\u001b[0;34m.\u001b[0m\u001b[0m_maybe_cast_indexer\u001b[0m\u001b[0;34m(\u001b[0m\u001b[0mkey\u001b[0m\u001b[0;34m)\u001b[0m\u001b[0;34m)\u001b[0m\u001b[0;34m\u001b[0m\u001b[0;34m\u001b[0m\u001b[0m\n\u001b[0m\u001b[1;32m   2649\u001b[0m         \u001b[0mindexer\u001b[0m \u001b[0;34m=\u001b[0m \u001b[0mself\u001b[0m\u001b[0;34m.\u001b[0m\u001b[0mget_indexer\u001b[0m\u001b[0;34m(\u001b[0m\u001b[0;34m[\u001b[0m\u001b[0mkey\u001b[0m\u001b[0;34m]\u001b[0m\u001b[0;34m,\u001b[0m \u001b[0mmethod\u001b[0m\u001b[0;34m=\u001b[0m\u001b[0mmethod\u001b[0m\u001b[0;34m,\u001b[0m \u001b[0mtolerance\u001b[0m\u001b[0;34m=\u001b[0m\u001b[0mtolerance\u001b[0m\u001b[0;34m)\u001b[0m\u001b[0;34m\u001b[0m\u001b[0;34m\u001b[0m\u001b[0m\n\u001b[1;32m   2650\u001b[0m         \u001b[0;32mif\u001b[0m \u001b[0mindexer\u001b[0m\u001b[0;34m.\u001b[0m\u001b[0mndim\u001b[0m \u001b[0;34m>\u001b[0m \u001b[0;36m1\u001b[0m \u001b[0;32mor\u001b[0m \u001b[0mindexer\u001b[0m\u001b[0;34m.\u001b[0m\u001b[0msize\u001b[0m \u001b[0;34m>\u001b[0m \u001b[0;36m1\u001b[0m\u001b[0;34m:\u001b[0m\u001b[0;34m\u001b[0m\u001b[0;34m\u001b[0m\u001b[0m\n",
      "\u001b[0;32mpandas/_libs/index.pyx\u001b[0m in \u001b[0;36mpandas._libs.index.IndexEngine.get_loc\u001b[0;34m()\u001b[0m\n",
      "\u001b[0;32mpandas/_libs/index.pyx\u001b[0m in \u001b[0;36mpandas._libs.index.IndexEngine.get_loc\u001b[0;34m()\u001b[0m\n",
      "\u001b[0;32mpandas/_libs/hashtable_class_helper.pxi\u001b[0m in \u001b[0;36mpandas._libs.hashtable.PyObjectHashTable.get_item\u001b[0;34m()\u001b[0m\n",
      "\u001b[0;32mpandas/_libs/hashtable_class_helper.pxi\u001b[0m in \u001b[0;36mpandas._libs.hashtable.PyObjectHashTable.get_item\u001b[0;34m()\u001b[0m\n",
      "\u001b[0;31mKeyError\u001b[0m: 'PatientId'"
     ]
    }
   ],
   "source": [
    "names = data.columns\n",
    "samples_id = list(data['PatientId'])\n",
    "del data['PatientId']\n",
    "del data['index']"
   ]
  },
  {
   "cell_type": "code",
   "execution_count": 19,
   "metadata": {},
   "outputs": [],
   "source": [
    "def frag_profile(x):\n",
    "    p = x.split(',')\n",
    "    results = list(map(float, p))\n",
    "    return results"
   ]
  },
  {
   "cell_type": "code",
   "execution_count": 303,
   "metadata": {},
   "outputs": [],
   "source": [
    "data.drop(data.tail(1).index,inplace=True) # Last row has nan values "
   ]
  },
  {
   "cell_type": "code",
   "execution_count": 57,
   "metadata": {},
   "outputs": [],
   "source": [
    "chr1 = data['chr16'].apply(lambda row : frag_profile(row))"
   ]
  },
  {
   "cell_type": "code",
   "execution_count": 58,
   "metadata": {},
   "outputs": [],
   "source": [
    "X = data.values\n",
    "Y = labels['estimated.purity'].values"
   ]
  },
  {
   "cell_type": "code",
   "execution_count": 60,
   "metadata": {},
   "outputs": [],
   "source": [
    "from scipy import signal \n",
    "import math \n",
    "import pywt"
   ]
  },
  {
   "cell_type": "code",
   "execution_count": 61,
   "metadata": {},
   "outputs": [],
   "source": [
    "def waveletCoeffMatrix(x):\n",
    "    coeff, _ = pywt.cwt(x, range(1,32), 'morl', 1)\n",
    "    coeff_ = coeff[:,:31]\n",
    "    return coeff_"
   ]
  },
  {
   "cell_type": "code",
   "execution_count": 350,
   "metadata": {},
   "outputs": [],
   "source": [
    "XX = np.ndarray(shape=(50,31,31,22))"
   ]
  },
  {
   "cell_type": "code",
   "execution_count": 351,
   "metadata": {},
   "outputs": [],
   "source": [
    "for jj in range(0,22):\n",
    "    #print(jj)\n",
    "    label = ('chr%s'%(jj+1))\n",
    "    chr_data = data[label].apply(lambda row : frag_profile(row))\n",
    "    signal_matrix = np.array(chr_data.values.tolist())\n",
    "    for ii in range(0,50):\n",
    "        coeff, _ = pywt.cwt(signal_matrix[ii], range(1,32), 'morl', 1)\n",
    "        coeff_ = coeff[:,:31]\n",
    "        XX[ii,:,:,jj] = coeff_"
   ]
  },
  {
   "cell_type": "code",
   "execution_count": 355,
   "metadata": {},
   "outputs": [
    {
     "data": {
      "text/plain": [
       "<matplotlib.image.AxesImage at 0x161c1c850>"
      ]
     },
     "execution_count": 355,
     "metadata": {},
     "output_type": "execute_result"
    },
    {
     "data": {
      "image/png": "[encoded data removed]",
      "text/plain": [
       "<Figure size 432x288 with 1 Axes>"
      ]
     },
     "metadata": {
      "needs_background": "light"
     },
     "output_type": "display_data"
    }
   ],
   "source": [
    "coeff_.shape\n",
    "plt.imshow(coeff_)"
   ]
  },
  {
   "cell_type": "code",
   "execution_count": 148,
   "metadata": {
    "scrolled": true
   },
   "outputs": [],
   "source": [
    "XX = np.zeros((314,31*31))\n",
    "for i in range(0,313):\n",
    "    img = np.array(tt[i])\n",
    "    partial = img.flatten()\n",
    "    partial = (partial - np.min(partial)) / (np.max(partial)-np.min(partial))\n",
    "    XX[i,:] = partial\n",
    "    #XX[i,:] = img.flatten()"
   ]
  },
  {
   "cell_type": "code",
   "execution_count": 136,
   "metadata": {},
   "outputs": [
    {
     "data": {
      "text/plain": [
       "<matplotlib.image.AxesImage at 0x125dadd10>"
      ]
     },
     "execution_count": 136,
     "metadata": {},
     "output_type": "execute_result"
    },
    {
     "data": {
      "image/png": "[encoded data removed]",
      "text/plain": [
       "<Figure size 432x288 with 1 Axes>"
      ]
     },
     "metadata": {
      "needs_background": "light"
     },
     "output_type": "display_data"
    }
   ],
   "source": [
    "plt.imshow(np.array(tt[200]))"
   ]
  },
  {
   "cell_type": "code",
   "execution_count": 356,
   "metadata": {},
   "outputs": [],
   "source": [
    "from sklearn.model_selection import train_test_split"
   ]
  },
  {
   "cell_type": "code",
   "execution_count": 357,
   "metadata": {},
   "outputs": [],
   "source": [
    "indices = [i for i in range(len(XX))]"
   ]
  },
  {
   "cell_type": "code",
   "execution_count": 380,
   "metadata": {},
   "outputs": [],
   "source": [
    "X_train, X_test ,Y_train, Y_test, indices_train, indices_test = train_test_split(XX, Y[:50], indices, test_size=0.2)"
   ]
  },
  {
   "cell_type": "code",
   "execution_count": 381,
   "metadata": {},
   "outputs": [
    {
     "name": "stdout",
     "output_type": "stream",
     "text": [
      "(40, 31, 31, 22) (40,)\n",
      "(10, 31, 31, 22) (10,)\n"
     ]
    }
   ],
   "source": [
    "print(X_train.shape, Y_train.shape)\n",
    "print(X_test.shape, Y_test.shape)"
   ]
  },
  {
   "cell_type": "code",
   "execution_count": 382,
   "metadata": {},
   "outputs": [],
   "source": [
    "batch_size = 4\n",
    "num_classes = 1\n",
    "epochs = 10\n",
    "IMG_SIZE = 31\n",
    "input_shape=(IMG_SIZE, IMG_SIZE, 22)\n",
    "\n",
    "#Y_train = keras.utils.to_categorical(Y_train, num_classes)\n",
    "#Y_test = keras.utils.to_categorical(Y_test, num_classes)"
   ]
  },
  {
   "cell_type": "code",
   "execution_count": 383,
   "metadata": {},
   "outputs": [],
   "source": [
    "model = Sequential()\n",
    "model.add(Conv2D(IMG_SIZE, kernel_size=(5, 5), strides=(1, 1),\n",
    "                 activation='relu',\n",
    "                 input_shape=input_shape))\n",
    "model.add(MaxPooling2D(pool_size=(2, 2), strides=(2, 2)))\n",
    "model.add(Conv2D(64, (5, 5), activation='relu'))\n",
    "model.add(MaxPooling2D(pool_size=(2, 2)))\n",
    "model.add(Flatten())\n",
    "model.add(Dense(1000, activation='relu'))\n",
    "model.add(Dense(num_classes, activation='softmax'))"
   ]
  },
  {
   "cell_type": "code",
   "execution_count": 384,
   "metadata": {},
   "outputs": [],
   "source": [
    "model.compile(loss='mean_squared_error', optimizer='adam')\n",
    "#model.compile(loss=keras.losses.categorical_crossentropy,\n",
    "#              optimizer=keras.optimizers.SGD(lr=0.01),\n",
    "#              metrics=['accuracy'])"
   ]
  },
  {
   "cell_type": "code",
   "execution_count": 385,
   "metadata": {},
   "outputs": [
    {
     "name": "stdout",
     "output_type": "stream",
     "text": [
      "Train on 40 samples, validate on 10 samples\n",
      "Epoch 1/10\n",
      "40/40 [==============================] - 0s 11ms/step - loss: 0.8130 - val_loss: 0.8905\n",
      "Epoch 2/10\n",
      "40/40 [==============================] - 0s 4ms/step - loss: 0.8130 - val_loss: 0.8905\n",
      "Epoch 3/10\n",
      "40/40 [==============================] - 0s 4ms/step - loss: 0.8130 - val_loss: 0.8905\n",
      "Epoch 4/10\n",
      "40/40 [==============================] - 0s 4ms/step - loss: 0.8130 - val_loss: 0.8905\n",
      "Epoch 5/10\n",
      "40/40 [==============================] - 0s 4ms/step - loss: 0.8130 - val_loss: 0.8905\n",
      "Epoch 6/10\n",
      "40/40 [==============================] - 0s 4ms/step - loss: 0.8130 - val_loss: 0.8905\n",
      "Epoch 7/10\n",
      "40/40 [==============================] - 0s 4ms/step - loss: 0.8130 - val_loss: 0.8905\n",
      "Epoch 8/10\n",
      "40/40 [==============================] - 0s 3ms/step - loss: 0.8130 - val_loss: 0.8905\n",
      "Epoch 9/10\n",
      "40/40 [==============================] - 0s 3ms/step - loss: 0.8130 - val_loss: 0.8905\n",
      "Epoch 10/10\n",
      "40/40 [==============================] - 0s 3ms/step - loss: 0.8130 - val_loss: 0.8905\n"
     ]
    },
    {
     "data": {
      "text/plain": [
       "<keras.callbacks.callbacks.History at 0x27cce8610>"
      ]
     },
     "execution_count": 385,
     "metadata": {},
     "output_type": "execute_result"
    }
   ],
   "source": [
    "model.fit(X_train, Y_train,\n",
    "          batch_size=batch_size,\n",
    "          epochs=epochs,\n",
    "          verbose=1,\n",
    "          validation_data=(X_test, Y_test),\n",
    "          callbacks=[history])"
   ]
  },
  {
   "cell_type": "code",
   "execution_count": 386,
   "metadata": {},
   "outputs": [
    {
     "ename": "TypeError",
     "evalue": "cannot unpack non-iterable float object",
     "output_type": "error",
     "traceback": [
      "\u001b[0;31m---------------------------------------------------------------------------\u001b[0m",
      "\u001b[0;31mTypeError\u001b[0m                                 Traceback (most recent call last)",
      "\u001b[0;32m<ipython-input-386-9981650f2d47>\u001b[0m in \u001b[0;36m<module>\u001b[0;34m\u001b[0m\n\u001b[0;32m----> 1\u001b[0;31m \u001b[0mtrain_loss\u001b[0m\u001b[0;34m,\u001b[0m \u001b[0mtrain_acc\u001b[0m \u001b[0;34m=\u001b[0m \u001b[0mmodel\u001b[0m\u001b[0;34m.\u001b[0m\u001b[0mevaluate\u001b[0m\u001b[0;34m(\u001b[0m\u001b[0mX_train\u001b[0m\u001b[0;34m,\u001b[0m \u001b[0mY_train\u001b[0m\u001b[0;34m,\u001b[0m \u001b[0mverbose\u001b[0m\u001b[0;34m=\u001b[0m\u001b[0;36m0\u001b[0m\u001b[0;34m)\u001b[0m\u001b[0;34m\u001b[0m\u001b[0;34m\u001b[0m\u001b[0m\n\u001b[0m\u001b[1;32m      2\u001b[0m \u001b[0mprint\u001b[0m\u001b[0;34m(\u001b[0m\u001b[0;34m'Train loss:'\u001b[0m\u001b[0;34m,\u001b[0m \u001b[0mtrain_loss\u001b[0m\u001b[0;34m)\u001b[0m\u001b[0;34m\u001b[0m\u001b[0;34m\u001b[0m\u001b[0m\n\u001b[1;32m      3\u001b[0m \u001b[0mprint\u001b[0m\u001b[0;34m(\u001b[0m\u001b[0;34m'Train accuracy:'\u001b[0m\u001b[0;34m,\u001b[0m \u001b[0mtrain_acc\u001b[0m\u001b[0;34m)\u001b[0m\u001b[0;34m\u001b[0m\u001b[0;34m\u001b[0m\u001b[0m\n",
      "\u001b[0;31mTypeError\u001b[0m: cannot unpack non-iterable float object"
     ]
    }
   ],
   "source": [
    "train_loss, train_acc = model.evaluate(X_train, Y_train, verbose=0)\n",
    "print('Train loss:', train_loss)\n",
    "print('Train accuracy:', train_acc)"
   ]
  },
  {
   "cell_type": "code",
   "execution_count": 365,
   "metadata": {},
   "outputs": [
    {
     "name": "stdout",
     "output_type": "stream",
     "text": [
      "Test loss: 0.0018531441455706954\n",
      "Test accuracy: 1.0\n"
     ]
    }
   ],
   "source": [
    "loss, acc = model.evaluate(X_test, Y_test, verbose=0)\n",
    "print('Test loss:', loss)\n",
    "print('Test accuracy:', acc)"
   ]
  },
  {
   "cell_type": "code",
   "execution_count": 387,
   "metadata": {},
   "outputs": [],
   "source": [
    "from sklearn.metrics import mean_squared_error"
   ]
  },
  {
   "cell_type": "code",
   "execution_count": 388,
   "metadata": {},
   "outputs": [
    {
     "name": "stdout",
     "output_type": "stream",
     "text": [
      "0.8130369195898387\n",
      "0.8904787133131894\n"
     ]
    }
   ],
   "source": [
    "## TRAINING set ##\n",
    "Y_fitted = model.predict(X_train)\n",
    "print(mean_squared_error(Y_train, Y_fitted))\n",
    "\n",
    "## TESTING set ##\n",
    "Y_predicted = model.predict(X_test)\n",
    "print(mean_squared_error(Y_test, Y_predicted))"
   ]
  },
  {
   "cell_type": "code",
   "execution_count": null,
   "metadata": {},
   "outputs": [],
   "source": []
  }
 ],
 "metadata": {
  "kernelspec": {
   "display_name": "Python 3",
   "language": "python",
   "name": "python3"
  },
  "language_info": {
   "codemirror_mode": {
    "name": "ipython",
    "version": 3
   },
   "file_extension": ".py",
   "mimetype": "text/x-python",
   "name": "python",
   "nbconvert_exporter": "python",
   "pygments_lexer": "ipython3",
   "version": "3.7.6"
  }
 },
 "nbformat": 4,
 "nbformat_minor": 4
}
