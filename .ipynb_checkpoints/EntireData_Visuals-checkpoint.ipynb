{
 "cells": [
  {
   "cell_type": "code",
   "execution_count": 1,
   "metadata": {},
   "outputs": [],
   "source": [
    "import pandas as pd\n",
    "import numpy as np\n",
    "import scipy as sp\n",
    "import string\n",
    "import random\n",
    "import re\n",
    "import collections\n",
    "import matplotlib.pyplot as plt\n",
    "from scipy.signal import welch, hanning"
   ]
  },
  {
   "cell_type": "code",
   "execution_count": null,
   "metadata": {},
   "outputs": [],
   "source": [
    "full_dataset = pd.read_csv('/Users/anamaria1/Desktop/Conferences/2019/Novartis/cfDNA/Hack9-DataAnalysisFolders/DATA.csv',sep='\\t')"
   ]
  },
  {
   "cell_type": "code",
   "execution_count": null,
   "metadata": {},
   "outputs": [],
   "source": [
    "full_dataset.head(2)"
   ]
  },
  {
   "cell_type": "code",
   "execution_count": null,
   "metadata": {},
   "outputs": [],
   "source": [
    "del full_dataset['Unnamed: 0']\n",
    "del full_dataset['5']\n",
    "full_dataset.rename(columns={'0':'PatientId', '1':'Chromosome', '2':'ExonStart', '3':'ExonEnd', \n",
    "                               '4':'WPS'},inplace=True)"
   ]
  },
  {
   "cell_type": "code",
   "execution_count": null,
   "metadata": {},
   "outputs": [],
   "source": [
    "print('Number of  samples %s'% full_dataset['PatientId'].unique().shape[0])"
   ]
  },
  {
   "cell_type": "code",
   "execution_count": null,
   "metadata": {},
   "outputs": [],
   "source": [
    "full_dataset.head(2)"
   ]
  },
  {
   "cell_type": "code",
   "execution_count": null,
   "metadata": {},
   "outputs": [],
   "source": [
    "a = full_dataset.groupby(['PatientId','Chromosome'])['WPS'].apply(','.join).reset_index()"
   ]
  },
  {
   "cell_type": "code",
   "execution_count": null,
   "metadata": {},
   "outputs": [],
   "source": [
    "a.head()"
   ]
  },
  {
   "cell_type": "code",
   "execution_count": null,
   "metadata": {},
   "outputs": [],
   "source": [
    "def chr_profile(x):\n",
    "    p = x.split(',')\n",
    "    results = list(map(float, p))\n",
    "    return results"
   ]
  },
  {
   "cell_type": "code",
   "execution_count": null,
   "metadata": {},
   "outputs": [],
   "source": [
    "def len_wps(x):\n",
    "    return len(x.split(','))"
   ]
  },
  {
   "cell_type": "code",
   "execution_count": null,
   "metadata": {},
   "outputs": [],
   "source": [
    "AllChrProfiles = a['WPS'].apply(lambda row : chr_profile(row))"
   ]
  },
  {
   "cell_type": "code",
   "execution_count": null,
   "metadata": {},
   "outputs": [],
   "source": [
    "AllChrProfiles.head()"
   ]
  },
  {
   "cell_type": "code",
   "execution_count": null,
   "metadata": {},
   "outputs": [],
   "source": [
    "ind_chr1 = a[a['Chromosome']=='chr1'].index.values"
   ]
  },
  {
   "cell_type": "code",
   "execution_count": null,
   "metadata": {},
   "outputs": [],
   "source": [
    "chr1_matrix = np.array(AllChrProfiles[ind_chr1].values.tolist())\n",
    "chr1_matrix_mean = np.mean(chr1_matrix,axis=0)"
   ]
  },
  {
   "cell_type": "code",
   "execution_count": null,
   "metadata": {
    "scrolled": true
   },
   "outputs": [],
   "source": [
    "for i in range(0,20):\n",
    "    plt.plot(AllChrProfiles[ind_chr1[i]],color='0.75',linewidth=2)\n",
    "    plt.plot(chr1_matrix_mean,color='k',linewidth=0.25)\n",
    "    plt.title('Chromosome 1')\n",
    "    plt.xlabel('Chromosome Position')\n",
    "    plt.ylabel('WPS')\n",
    "    plt.ylim((-15,5))  \n",
    "plt.show()"
   ]
  },
  {
   "cell_type": "code",
   "execution_count": null,
   "metadata": {},
   "outputs": [],
   "source": [
    "labels = pd.read_csv('Data/20190819_WPS_NORM.hackathon_sample_info_updated.csv')\n",
    "labels = labels.fillna('N/A')\n",
    "labels.rename(columns={'library':'PatientId', 'hotspot':'Oncogene'},inplace=True)"
   ]
  },
  {
   "cell_type": "code",
   "execution_count": null,
   "metadata": {},
   "outputs": [],
   "source": [
    "zeroPurity = labels[(labels['estimated.purity']==0) & (labels['ctdna.score']<=0.01)]"
   ]
  },
  {
   "cell_type": "code",
   "execution_count": null,
   "metadata": {},
   "outputs": [],
   "source": [
    "highPurity = labels[labels['estimated.purity']>=0.5]"
   ]
  },
  {
   "cell_type": "code",
   "execution_count": null,
   "metadata": {},
   "outputs": [],
   "source": [
    "zero_ids = zeroPurity['PatientId'].tolist()\n",
    "high_ids = highPurity['PatientId'].tolist()"
   ]
  },
  {
   "cell_type": "code",
   "execution_count": null,
   "metadata": {},
   "outputs": [],
   "source": [
    "zero_a = a[a['PatientId'].isin(zero_ids)]\n",
    "high_a = a[a['PatientId'].isin(high_ids)]"
   ]
  },
  {
   "cell_type": "code",
   "execution_count": null,
   "metadata": {},
   "outputs": [],
   "source": [
    "zero_a['PatientId'].unique().shape[0]"
   ]
  },
  {
   "cell_type": "code",
   "execution_count": null,
   "metadata": {},
   "outputs": [],
   "source": [
    "high_a['PatientId'].unique().shape[0]"
   ]
  },
  {
   "cell_type": "code",
   "execution_count": null,
   "metadata": {},
   "outputs": [],
   "source": [
    "# Remove X/Y chromosomes\n",
    "high_a.drop(high_a[high_a['Chromosome']=='chrX'].index,axis=0,inplace=True)\n",
    "high_a.drop(high_a[high_a['Chromosome']=='chrY'].index,axis=0,inplace=True)\n",
    "zero_a.drop(zero_a[zero_a['Chromosome']=='chrX'].index,axis=0,inplace=True)\n",
    "zero_a.drop(zero_a[zero_a['Chromosome']=='chrY'].index,axis=0,inplace=True)"
   ]
  },
  {
   "cell_type": "code",
   "execution_count": null,
   "metadata": {},
   "outputs": [],
   "source": [
    "Zero_ChrProfiles = zero_a['WPS'].apply(lambda row : chr_profile(row))\n",
    "High_ChrProfiles = high_a['WPS'].apply(lambda row : chr_profile(row))"
   ]
  },
  {
   "cell_type": "code",
   "execution_count": null,
   "metadata": {},
   "outputs": [],
   "source": [
    "n = high_a['PatientId'].unique().shape[0]\n",
    "r_ind = np.random.randint(zero_a['PatientId'].unique().shape[0], size=n)\n",
    "j = 1\n",
    "label = ('chr%s'%(j+1))\n",
    "k1 = high_a[high_a['Chromosome']==label].index.values\n",
    "k2 = zero_a[zero_a['Chromosome']==label].index.values"
   ]
  },
  {
   "cell_type": "code",
   "execution_count": null,
   "metadata": {},
   "outputs": [],
   "source": [
    "tmp1_matrix = np.array(High_ChrProfiles[k1].values.tolist())\n",
    "tmp2_matrix = np.array(Zero_ChrProfiles[k2].values.tolist())\n",
    "\n",
    "tmp1_matrix_mean = np.mean(tmp1_matrix,axis=0)\n",
    "tmp2_matrix_mean = np.mean(tmp2_matrix,axis=0)"
   ]
  },
  {
   "cell_type": "code",
   "execution_count": null,
   "metadata": {},
   "outputs": [],
   "source": [
    "from matplotlib.pyplot import style, savefig\n",
    "# Plot side-by-side zero and high purity chromosome WPS data\n",
    "_, (ax1, ax2) = plt.subplots(1,2)\n",
    "for i in range(0,n): \n",
    "    ax1.plot(Zero_ChrProfiles[k2[i]],color='0.75',linewidth=2)\n",
    "    ax1.plot(tmp1_matrix_mean,color='k',linewidth=0.25)\n",
    "    ax2.plot(High_ChrProfiles[k1[i]],color='0.75',linewidth=2)\n",
    "    ax2.plot(tmp2_matrix_mean,color='k',linewidth=0.25)\n",
    "    _.suptitle('Chromosome %s'%(j+1))\n",
    "ax1.set_xlabel('Chromosome Position')\n",
    "ax1.set_ylabel('WPS')\n",
    "ax1.set_ylim((-15,5)) \n",
    "ax1.set_title('Zero Purity')\n",
    "ax1.set_xticklabels([])\n",
    "ax2.set_xlabel('Chromosome Position')\n",
    "ax2.set_xticklabels([])\n",
    "ax2.set_ylim((-15,5)) \n",
    "ax2.set_title('Above 50% Purity')\n",
    "#savefig('chr%s_plots.eps'%(j+1),bbox_inches='tight')\n",
    "plt.show()"
   ]
  },
  {
   "cell_type": "code",
   "execution_count": null,
   "metadata": {},
   "outputs": [],
   "source": [
    "####################################################################################\n",
    "############### Wavelet Transformations of the WPS #################################\n",
    "####################################################################################"
   ]
  },
  {
   "cell_type": "code",
   "execution_count": null,
   "metadata": {},
   "outputs": [],
   "source": [
    "from scipy import signal \n",
    "import math \n",
    "import pywt"
   ]
  },
  {
   "cell_type": "code",
   "execution_count": null,
   "metadata": {},
   "outputs": [],
   "source": [
    "_, axs = plt.subplots(5,5)\n",
    "_.suptitle('Zero purity sample')\n",
    "scales = range(1,128)\n",
    "waveletname = 'morl'\n",
    "for j in range(0,22):\n",
    "    label = ('chr%s'%(j+1))\n",
    "    k2 = zero_a[zero_a['Chromosome']==label].index.values\n",
    "    k1 = high_a[high_a['Chromosome']==label].index.values\n",
    "    \n",
    "    j_row = math.floor(j/5)\n",
    "    j_col = j%5\n",
    "    #print(j,j_row,j_col)\n",
    "    coeff1, freq1 = pywt.cwt(High_ChrProfiles[k1[5]], scales, waveletname, 1)\n",
    "    coeff1_ = coeff1[:,:127]\n",
    "    \n",
    "    coeff2, freq2 = pywt.cwt(Zero_ChrProfiles[k2[5]], scales, waveletname, 1)\n",
    "    coeff2_ = coeff2[:,:127]\n",
    "    \n",
    "    im = axs[j_row,j_col].imshow(coeff2_,vmin=0, vmax=np.max(coeff2_))\n",
    "    axs[j_row,j_col].set_title('Chr %s'%(j+1))\n",
    "    axs[j_row,j_col].axis('off')\n",
    "    \n",
    "_.tight_layout()\n",
    "#plt.savefig('ZeroPurity_CWT_PerChromosome.eps', dpi=80, bbox_inches='tight')\n",
    "plt.show()"
   ]
  }
 ],
 "metadata": {
  "kernelspec": {
   "display_name": "Python 3",
   "language": "python",
   "name": "python3"
  },
  "language_info": {
   "codemirror_mode": {
    "name": "ipython",
    "version": 3
   },
   "file_extension": ".py",
   "mimetype": "text/x-python",
   "name": "python",
   "nbconvert_exporter": "python",
   "pygments_lexer": "ipython3",
   "version": "3.7.6"
  }
 },
 "nbformat": 4,
 "nbformat_minor": 4
}
