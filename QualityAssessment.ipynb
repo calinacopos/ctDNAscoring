{
 "cells": [
  {
   "cell_type": "code",
   "execution_count": 2,
   "metadata": {},
   "outputs": [],
   "source": [
    "import re\n",
    "import pandas as pd\n",
    "import numpy as np\n",
    "import os"
   ]
  },
  {
   "cell_type": "code",
   "execution_count": 3,
   "metadata": {},
   "outputs": [],
   "source": [
    "file1 = 'Data/20190819_WPS_NORM.hackathon_sample_info_updated.csv'\n",
    "file2 = 'Data/20190815_WPS_NORM.hackathon_sample_info.csv'\n",
    "df1 = pd.read_csv(file1)\n",
    "df2 = pd.read_csv(file2)\n",
    "\n",
    "common_df = df1[df1['library'].isin(df2['library'])]"
   ]
  },
  {
   "cell_type": "code",
   "execution_count": 4,
   "metadata": {},
   "outputs": [],
   "source": [
    "# Evaluate machine learning model performance for patients with tumor purity < 10%\n",
    "common_df = common_df[common_df['estimated.purity'] <= 0.1] \n",
    "common_df = common_df.fillna('N/A')"
   ]
  },
  {
   "cell_type": "code",
   "execution_count": 5,
   "metadata": {},
   "outputs": [],
   "source": [
    "# Identify presence of oncogene\n",
    "def search (test):\n",
    "    if test != 'N/A':\n",
    "        if re.search('PIK3CA',test) or re.search('BRAF',test) or re.search('KRAS',test) or re.search('ESR1',test):\n",
    "            return ('Positive')\n",
    "        elif test:\n",
    "            return ('Boderline')\n",
    "    else:\n",
    "        return ('Negative')"
   ]
  },
  {
   "cell_type": "code",
   "execution_count": 6,
   "metadata": {},
   "outputs": [],
   "source": [
    "common_df['type'] = common_df['hotspot'].apply(lambda row: search(row))"
   ]
  },
  {
   "cell_type": "code",
   "execution_count": 7,
   "metadata": {},
   "outputs": [],
   "source": [
    "pos = common_df[common_df['type'] == 'Positive']\n",
    "neg = common_df[common_df['type'] == 'Negative']\n",
    "bod = common_df[common_df['type'] == 'Boderline']\n",
    "\n",
    "p = pos['library'].tolist()\n",
    "n = neg['library'].tolist()\n",
    "b = bod['library'].tolist()"
   ]
  },
  {
   "cell_type": "code",
   "execution_count": 14,
   "metadata": {},
   "outputs": [],
   "source": [
    "files = os.listdir('FeaturesResults/TestingSet/')"
   ]
  },
  {
   "cell_type": "code",
   "execution_count": 15,
   "metadata": {},
   "outputs": [],
   "source": [
    "# Label the quality of the prediction (caution: arbitrary acceptable value)\n",
    "def testing(row): \n",
    "    r = float(row)\n",
    "    if r <= 0.1:\n",
    "        return ('Concordant')\n",
    "    elif r <= 0.11:\n",
    "        return ('Acceptable')\n",
    "    else:\n",
    "        return ('Unacceptable')"
   ]
  },
  {
   "cell_type": "code",
   "execution_count": 18,
   "metadata": {},
   "outputs": [],
   "source": [
    "oncogene = ['Negative']\n",
    "dir_name = 'FeaturesResults/TestingSet/'\n",
    "for q in oncogene:\n",
    "    quality_final = [['Model','Concordant','Acceptable','Unacceptable','Percentage']]\n",
    "    for file in files:\n",
    "        temp = []\n",
    "        filename = os.path.join(dir_name,file)\n",
    "        test_df = pd.read_csv(filename)\n",
    "        \n",
    "        # Only select target samples\n",
    "        test_df = test_df[test_df['PatientId'].isin(n)] \n",
    "        test_df['Model_quality'] = test_df['Y_fitted'].apply(lambda row: testing(row))\n",
    "        temp = test_df['Model_quality'].value_counts()\n",
    "        if 'Concordant' not in temp:\n",
    "            temp['Concordant'] = 0\n",
    "        if 'Unacceptable' not in temp:\n",
    "            temp['Unacceptable'] = 0\n",
    "        if 'Acceptable' not in temp:\n",
    "            temp['Acceptable'] = 0\n",
    "        temp['Percentage'] = (temp['Acceptable']+temp['Concordant'])/(temp['Acceptable']+temp['Concordant']+temp['Unacceptable'])\n",
    "        li = [file, temp['Concordant'], temp['Acceptable'], temp['Unacceptable'], temp['Percentage']]\n",
    "        quality_final.append(li)\n",
    "        quality_control_train = pd.DataFrame(quality_final)\n",
    "    \n",
    "    quality_control_train.to_csv(f'Testing_data_prediction_quality_{q}_Patients.csv',sep='\\t')"
   ]
  },
  {
   "cell_type": "code",
   "execution_count": null,
   "metadata": {},
   "outputs": [],
   "source": []
  }
 ],
 "metadata": {
  "kernelspec": {
   "display_name": "Python 3",
   "language": "python",
   "name": "python3"
  },
  "language_info": {
   "codemirror_mode": {
    "name": "ipython",
    "version": 3
   },
   "file_extension": ".py",
   "mimetype": "text/x-python",
   "name": "python",
   "nbconvert_exporter": "python",
   "pygments_lexer": "ipython3",
   "version": "3.7.6"
  }
 },
 "nbformat": 4,
 "nbformat_minor": 4
}
