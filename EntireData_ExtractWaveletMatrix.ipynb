{
 "cells": [
  {
   "cell_type": "code",
   "execution_count": 76,
   "metadata": {},
   "outputs": [],
   "source": [
    "import pandas as pd\n",
    "import numpy as np\n",
    "import scipy as sp\n",
    "import string\n",
    "import random\n",
    "import re\n",
    "import collections\n",
    "import matplotlib.pyplot as plt\n",
    "\n",
    "import keras\n",
    "from keras import backend as kb\n",
    "from keras.layers import Dense, Flatten\n",
    "from keras.layers import Conv2D, MaxPooling2D\n",
    "from keras.models import Sequential\n",
    "from keras.callbacks import History \n",
    "history = History()"
   ]
  },
  {
   "cell_type": "code",
   "execution_count": 2,
   "metadata": {},
   "outputs": [
    {
     "name": "stdout",
     "output_type": "stream",
     "text": [
      "Loading file...\n"
     ]
    }
   ],
   "source": [
    "print('Loading file...')\n",
    "file = '/Users/anamaria1/Desktop/Conferences/2019/Novartis/cfDNA/Hack9-DataAnalysisFolders/DATA.csv'\n",
    "samples = pd.read_csv(file,sep='\\t')"
   ]
  },
  {
   "cell_type": "code",
   "execution_count": 3,
   "metadata": {},
   "outputs": [
    {
     "name": "stdout",
     "output_type": "stream",
     "text": [
      "Beginning cleaning up file...\n"
     ]
    }
   ],
   "source": [
    "print('Beginning cleaning up file...')\n",
    "try: \n",
    "    del samples['Unnamed: 0']\n",
    "    del samples['5']\n",
    "except:\n",
    "    print('Handled')"
   ]
  },
  {
   "cell_type": "code",
   "execution_count": 4,
   "metadata": {},
   "outputs": [],
   "source": [
    "# Remove all entries with chromosome X and Y\n",
    "samples = samples[samples['1'] != 'chrX']\n",
    "samples = samples[samples['1'] != 'chrY']"
   ]
  },
  {
   "cell_type": "code",
   "execution_count": 5,
   "metadata": {},
   "outputs": [],
   "source": [
    "a = samples.groupby(['0','1'])['4'].apply(','.join).reset_index()"
   ]
  },
  {
   "cell_type": "code",
   "execution_count": 6,
   "metadata": {},
   "outputs": [],
   "source": [
    "def splitter(row):\n",
    "    p = re.split(',',row)\n",
    "    results = list(map(float, p))\n",
    "    return results"
   ]
  },
  {
   "cell_type": "code",
   "execution_count": 7,
   "metadata": {},
   "outputs": [
    {
     "name": "stdout",
     "output_type": "stream",
     "text": [
      "Write to file...\n",
      "Done\n"
     ]
    }
   ],
   "source": [
    "print('Write to file...')\n",
    "aa = a.pivot(index='0', columns='1', values='4')\n",
    "#aa.to_csv('Data/ChrWPS.csv')\n",
    "print('Done')"
   ]
  },
  {
   "cell_type": "code",
   "execution_count": 8,
   "metadata": {},
   "outputs": [
    {
     "data": {
      "text/html": [
       "<div>\n",
       "<style scoped>\n",
       "    .dataframe tbody tr th:only-of-type {\n",
       "        vertical-align: middle;\n",
       "    }\n",
       "\n",
       "    .dataframe tbody tr th {\n",
       "        vertical-align: top;\n",
       "    }\n",
       "\n",
       "    .dataframe thead th {\n",
       "        text-align: right;\n",
       "    }\n",
       "</style>\n",
       "<table border=\"1\" class=\"dataframe\">\n",
       "  <thead>\n",
       "    <tr style=\"text-align: right;\">\n",
       "      <th>1</th>\n",
       "      <th>chr1</th>\n",
       "      <th>chr10</th>\n",
       "      <th>chr11</th>\n",
       "      <th>chr12</th>\n",
       "      <th>chr13</th>\n",
       "      <th>chr14</th>\n",
       "      <th>chr15</th>\n",
       "      <th>chr16</th>\n",
       "      <th>chr17</th>\n",
       "      <th>chr18</th>\n",
       "      <th>...</th>\n",
       "      <th>chr20</th>\n",
       "      <th>chr21</th>\n",
       "      <th>chr22</th>\n",
       "      <th>chr3</th>\n",
       "      <th>chr4</th>\n",
       "      <th>chr5</th>\n",
       "      <th>chr6</th>\n",
       "      <th>chr7</th>\n",
       "      <th>chr8</th>\n",
       "      <th>chr9</th>\n",
       "    </tr>\n",
       "    <tr>\n",
       "      <th>0</th>\n",
       "      <th></th>\n",
       "      <th></th>\n",
       "      <th></th>\n",
       "      <th></th>\n",
       "      <th></th>\n",
       "      <th></th>\n",
       "      <th></th>\n",
       "      <th></th>\n",
       "      <th></th>\n",
       "      <th></th>\n",
       "      <th></th>\n",
       "      <th></th>\n",
       "      <th></th>\n",
       "      <th></th>\n",
       "      <th></th>\n",
       "      <th></th>\n",
       "      <th></th>\n",
       "      <th></th>\n",
       "      <th></th>\n",
       "      <th></th>\n",
       "      <th></th>\n",
       "    </tr>\n",
       "  </thead>\n",
       "  <tbody>\n",
       "    <tr>\n",
       "      <th>LIB-ZIIEJE</th>\n",
       "      <td>-0.735294,-0.735294,-0.735294,-0.735294,-0.735...</td>\n",
       "      <td>-0.828169,-0.835655,-0.846797,-0.850416,-0.842...</td>\n",
       "      <td>-1.844444,-1.900000,-1.902174,-1.872340,-1.836...</td>\n",
       "      <td>-1.420561,-1.410714,-1.392857,-1.353448,-1.336...</td>\n",
       "      <td>-3.133333,-3.032258,-2.906250,-2.906250,-2.735...</td>\n",
       "      <td>-0.588889,-0.600000,-0.611111,-0.596685,-0.607...</td>\n",
       "      <td>-0.835821,-0.835821,-0.798030,-0.786408,-0.739...</td>\n",
       "      <td>-0.548023,-0.562500,-0.573864,-0.517045,-0.531...</td>\n",
       "      <td>-0.766355,-0.803738,-0.800000,-0.763636,-0.756...</td>\n",
       "      <td>-1.296875,-1.320312,-1.312500,-1.273438,-1.203...</td>\n",
       "      <td>...</td>\n",
       "      <td>-2.142857,-2.142857,-2.380952,-2.428571,-2.476...</td>\n",
       "      <td>-0.790419,-0.796407,-0.791667,-0.786982,-0.763...</td>\n",
       "      <td>-1.794118,-1.794118,-1.794118,-1.794118,-1.742...</td>\n",
       "      <td>-0.842857,-0.779904,-0.770335,-0.780952,-0.772...</td>\n",
       "      <td>-1.354839,-1.305263,-1.315789,-1.347368,-1.343...</td>\n",
       "      <td>-1.266667,-1.250000,-1.267399,-1.261029,-1.238...</td>\n",
       "      <td>-3.590909,-3.727273,-3.818182,-3.818182,-3.818...</td>\n",
       "      <td>-1.692810,-1.718954,-1.664557,-1.650000,-1.600...</td>\n",
       "      <td>-0.625000,-0.669903,-0.669903,-0.669903,-0.747...</td>\n",
       "      <td>-3.285714,-3.285714,-3.428571,-3.428571,-3.000...</td>\n",
       "    </tr>\n",
       "    <tr>\n",
       "      <th>LIB-ZIIEJK</th>\n",
       "      <td>-0.535354,-0.561224,-0.581633,-0.581633,-0.608...</td>\n",
       "      <td>-1.007299,-0.996390,-0.985765,-0.975177,-0.964...</td>\n",
       "      <td>-1.884892,-1.832168,-1.733333,-1.688742,-1.626...</td>\n",
       "      <td>-1.869919,-1.817460,-1.812500,-1.829457,-1.781...</td>\n",
       "      <td>-2.469697,-2.411765,-2.352113,-2.310811,-2.250...</td>\n",
       "      <td>-0.713836,-0.737342,-0.722397,-0.735016,-0.745...</td>\n",
       "      <td>-0.679487,-0.696774,-0.670968,-0.670968,-0.647...</td>\n",
       "      <td>-0.579439,-0.556250,-0.523364,-0.495356,-0.500...</td>\n",
       "      <td>-0.734824,-0.745223,-0.712934,-0.718750,-0.741...</td>\n",
       "      <td>-1.323194,-1.310606,-1.251852,-1.240876,-1.205...</td>\n",
       "      <td>...</td>\n",
       "      <td>-1.945946,-1.945946,-1.947368,-1.948718,-1.900...</td>\n",
       "      <td>-1.197740,-1.200000,-1.203297,-1.230769,-1.224...</td>\n",
       "      <td>-2.338462,-2.272727,-2.287879,-2.235294,-2.231...</td>\n",
       "      <td>-0.750000,-0.750000,-0.750000,-0.793103,-0.810...</td>\n",
       "      <td>-1.200000,-1.192926,-1.186709,-1.175000,-1.141...</td>\n",
       "      <td>-1.309890,-1.315904,-1.309013,-1.288136,-1.266...</td>\n",
       "      <td>-3.414634,-3.560976,-3.609756,-3.595238,-3.477...</td>\n",
       "      <td>-1.826772,-1.810811,-1.770677,-1.761029,-1.764...</td>\n",
       "      <td>-0.821429,-0.817746,-0.826506,-0.873479,-0.886...</td>\n",
       "      <td>-2.255814,-2.204545,-2.200000,-2.222222,-2.195...</td>\n",
       "    </tr>\n",
       "  </tbody>\n",
       "</table>\n",
       "<p>2 rows × 22 columns</p>\n",
       "</div>"
      ],
      "text/plain": [
       "1                                                        chr1  \\\n",
       "0                                                               \n",
       "LIB-ZIIEJE  -0.735294,-0.735294,-0.735294,-0.735294,-0.735...   \n",
       "LIB-ZIIEJK  -0.535354,-0.561224,-0.581633,-0.581633,-0.608...   \n",
       "\n",
       "1                                                       chr10  \\\n",
       "0                                                               \n",
       "LIB-ZIIEJE  -0.828169,-0.835655,-0.846797,-0.850416,-0.842...   \n",
       "LIB-ZIIEJK  -1.007299,-0.996390,-0.985765,-0.975177,-0.964...   \n",
       "\n",
       "1                                                       chr11  \\\n",
       "0                                                               \n",
       "LIB-ZIIEJE  -1.844444,-1.900000,-1.902174,-1.872340,-1.836...   \n",
       "LIB-ZIIEJK  -1.884892,-1.832168,-1.733333,-1.688742,-1.626...   \n",
       "\n",
       "1                                                       chr12  \\\n",
       "0                                                               \n",
       "LIB-ZIIEJE  -1.420561,-1.410714,-1.392857,-1.353448,-1.336...   \n",
       "LIB-ZIIEJK  -1.869919,-1.817460,-1.812500,-1.829457,-1.781...   \n",
       "\n",
       "1                                                       chr13  \\\n",
       "0                                                               \n",
       "LIB-ZIIEJE  -3.133333,-3.032258,-2.906250,-2.906250,-2.735...   \n",
       "LIB-ZIIEJK  -2.469697,-2.411765,-2.352113,-2.310811,-2.250...   \n",
       "\n",
       "1                                                       chr14  \\\n",
       "0                                                               \n",
       "LIB-ZIIEJE  -0.588889,-0.600000,-0.611111,-0.596685,-0.607...   \n",
       "LIB-ZIIEJK  -0.713836,-0.737342,-0.722397,-0.735016,-0.745...   \n",
       "\n",
       "1                                                       chr15  \\\n",
       "0                                                               \n",
       "LIB-ZIIEJE  -0.835821,-0.835821,-0.798030,-0.786408,-0.739...   \n",
       "LIB-ZIIEJK  -0.679487,-0.696774,-0.670968,-0.670968,-0.647...   \n",
       "\n",
       "1                                                       chr16  \\\n",
       "0                                                               \n",
       "LIB-ZIIEJE  -0.548023,-0.562500,-0.573864,-0.517045,-0.531...   \n",
       "LIB-ZIIEJK  -0.579439,-0.556250,-0.523364,-0.495356,-0.500...   \n",
       "\n",
       "1                                                       chr17  \\\n",
       "0                                                               \n",
       "LIB-ZIIEJE  -0.766355,-0.803738,-0.800000,-0.763636,-0.756...   \n",
       "LIB-ZIIEJK  -0.734824,-0.745223,-0.712934,-0.718750,-0.741...   \n",
       "\n",
       "1                                                       chr18  ...  \\\n",
       "0                                                              ...   \n",
       "LIB-ZIIEJE  -1.296875,-1.320312,-1.312500,-1.273438,-1.203...  ...   \n",
       "LIB-ZIIEJK  -1.323194,-1.310606,-1.251852,-1.240876,-1.205...  ...   \n",
       "\n",
       "1                                                       chr20  \\\n",
       "0                                                               \n",
       "LIB-ZIIEJE  -2.142857,-2.142857,-2.380952,-2.428571,-2.476...   \n",
       "LIB-ZIIEJK  -1.945946,-1.945946,-1.947368,-1.948718,-1.900...   \n",
       "\n",
       "1                                                       chr21  \\\n",
       "0                                                               \n",
       "LIB-ZIIEJE  -0.790419,-0.796407,-0.791667,-0.786982,-0.763...   \n",
       "LIB-ZIIEJK  -1.197740,-1.200000,-1.203297,-1.230769,-1.224...   \n",
       "\n",
       "1                                                       chr22  \\\n",
       "0                                                               \n",
       "LIB-ZIIEJE  -1.794118,-1.794118,-1.794118,-1.794118,-1.742...   \n",
       "LIB-ZIIEJK  -2.338462,-2.272727,-2.287879,-2.235294,-2.231...   \n",
       "\n",
       "1                                                        chr3  \\\n",
       "0                                                               \n",
       "LIB-ZIIEJE  -0.842857,-0.779904,-0.770335,-0.780952,-0.772...   \n",
       "LIB-ZIIEJK  -0.750000,-0.750000,-0.750000,-0.793103,-0.810...   \n",
       "\n",
       "1                                                        chr4  \\\n",
       "0                                                               \n",
       "LIB-ZIIEJE  -1.354839,-1.305263,-1.315789,-1.347368,-1.343...   \n",
       "LIB-ZIIEJK  -1.200000,-1.192926,-1.186709,-1.175000,-1.141...   \n",
       "\n",
       "1                                                        chr5  \\\n",
       "0                                                               \n",
       "LIB-ZIIEJE  -1.266667,-1.250000,-1.267399,-1.261029,-1.238...   \n",
       "LIB-ZIIEJK  -1.309890,-1.315904,-1.309013,-1.288136,-1.266...   \n",
       "\n",
       "1                                                        chr6  \\\n",
       "0                                                               \n",
       "LIB-ZIIEJE  -3.590909,-3.727273,-3.818182,-3.818182,-3.818...   \n",
       "LIB-ZIIEJK  -3.414634,-3.560976,-3.609756,-3.595238,-3.477...   \n",
       "\n",
       "1                                                        chr7  \\\n",
       "0                                                               \n",
       "LIB-ZIIEJE  -1.692810,-1.718954,-1.664557,-1.650000,-1.600...   \n",
       "LIB-ZIIEJK  -1.826772,-1.810811,-1.770677,-1.761029,-1.764...   \n",
       "\n",
       "1                                                        chr8  \\\n",
       "0                                                               \n",
       "LIB-ZIIEJE  -0.625000,-0.669903,-0.669903,-0.669903,-0.747...   \n",
       "LIB-ZIIEJK  -0.821429,-0.817746,-0.826506,-0.873479,-0.886...   \n",
       "\n",
       "1                                                        chr9  \n",
       "0                                                              \n",
       "LIB-ZIIEJE  -3.285714,-3.285714,-3.428571,-3.428571,-3.000...  \n",
       "LIB-ZIIEJK  -2.255814,-2.204545,-2.200000,-2.222222,-2.195...  \n",
       "\n",
       "[2 rows x 22 columns]"
      ]
     },
     "execution_count": 8,
     "metadata": {},
     "output_type": "execute_result"
    }
   ],
   "source": [
    "aa.head(2)"
   ]
  },
  {
   "cell_type": "code",
   "execution_count": 9,
   "metadata": {},
   "outputs": [],
   "source": [
    "labels = pd.read_csv('Data/20190815_WPS_NORM.hackathon_sample_info.csv')\n",
    "data = aa\n",
    "data = data.reset_index()"
   ]
  },
  {
   "cell_type": "code",
   "execution_count": 10,
   "metadata": {},
   "outputs": [
    {
     "data": {
      "text/html": [
       "<div>\n",
       "<style scoped>\n",
       "    .dataframe tbody tr th:only-of-type {\n",
       "        vertical-align: middle;\n",
       "    }\n",
       "\n",
       "    .dataframe tbody tr th {\n",
       "        vertical-align: top;\n",
       "    }\n",
       "\n",
       "    .dataframe thead th {\n",
       "        text-align: right;\n",
       "    }\n",
       "</style>\n",
       "<table border=\"1\" class=\"dataframe\">\n",
       "  <thead>\n",
       "    <tr style=\"text-align: right;\">\n",
       "      <th>1</th>\n",
       "      <th>0</th>\n",
       "      <th>chr1</th>\n",
       "      <th>chr10</th>\n",
       "      <th>chr11</th>\n",
       "      <th>chr12</th>\n",
       "      <th>chr13</th>\n",
       "      <th>chr14</th>\n",
       "      <th>chr15</th>\n",
       "      <th>chr16</th>\n",
       "      <th>chr17</th>\n",
       "      <th>...</th>\n",
       "      <th>chr20</th>\n",
       "      <th>chr21</th>\n",
       "      <th>chr22</th>\n",
       "      <th>chr3</th>\n",
       "      <th>chr4</th>\n",
       "      <th>chr5</th>\n",
       "      <th>chr6</th>\n",
       "      <th>chr7</th>\n",
       "      <th>chr8</th>\n",
       "      <th>chr9</th>\n",
       "    </tr>\n",
       "  </thead>\n",
       "  <tbody>\n",
       "    <tr>\n",
       "      <th>0</th>\n",
       "      <td>LIB-ZIIEJE</td>\n",
       "      <td>-0.735294,-0.735294,-0.735294,-0.735294,-0.735...</td>\n",
       "      <td>-0.828169,-0.835655,-0.846797,-0.850416,-0.842...</td>\n",
       "      <td>-1.844444,-1.900000,-1.902174,-1.872340,-1.836...</td>\n",
       "      <td>-1.420561,-1.410714,-1.392857,-1.353448,-1.336...</td>\n",
       "      <td>-3.133333,-3.032258,-2.906250,-2.906250,-2.735...</td>\n",
       "      <td>-0.588889,-0.600000,-0.611111,-0.596685,-0.607...</td>\n",
       "      <td>-0.835821,-0.835821,-0.798030,-0.786408,-0.739...</td>\n",
       "      <td>-0.548023,-0.562500,-0.573864,-0.517045,-0.531...</td>\n",
       "      <td>-0.766355,-0.803738,-0.800000,-0.763636,-0.756...</td>\n",
       "      <td>...</td>\n",
       "      <td>-2.142857,-2.142857,-2.380952,-2.428571,-2.476...</td>\n",
       "      <td>-0.790419,-0.796407,-0.791667,-0.786982,-0.763...</td>\n",
       "      <td>-1.794118,-1.794118,-1.794118,-1.794118,-1.742...</td>\n",
       "      <td>-0.842857,-0.779904,-0.770335,-0.780952,-0.772...</td>\n",
       "      <td>-1.354839,-1.305263,-1.315789,-1.347368,-1.343...</td>\n",
       "      <td>-1.266667,-1.250000,-1.267399,-1.261029,-1.238...</td>\n",
       "      <td>-3.590909,-3.727273,-3.818182,-3.818182,-3.818...</td>\n",
       "      <td>-1.692810,-1.718954,-1.664557,-1.650000,-1.600...</td>\n",
       "      <td>-0.625000,-0.669903,-0.669903,-0.669903,-0.747...</td>\n",
       "      <td>-3.285714,-3.285714,-3.428571,-3.428571,-3.000...</td>\n",
       "    </tr>\n",
       "    <tr>\n",
       "      <th>1</th>\n",
       "      <td>LIB-ZIIEJK</td>\n",
       "      <td>-0.535354,-0.561224,-0.581633,-0.581633,-0.608...</td>\n",
       "      <td>-1.007299,-0.996390,-0.985765,-0.975177,-0.964...</td>\n",
       "      <td>-1.884892,-1.832168,-1.733333,-1.688742,-1.626...</td>\n",
       "      <td>-1.869919,-1.817460,-1.812500,-1.829457,-1.781...</td>\n",
       "      <td>-2.469697,-2.411765,-2.352113,-2.310811,-2.250...</td>\n",
       "      <td>-0.713836,-0.737342,-0.722397,-0.735016,-0.745...</td>\n",
       "      <td>-0.679487,-0.696774,-0.670968,-0.670968,-0.647...</td>\n",
       "      <td>-0.579439,-0.556250,-0.523364,-0.495356,-0.500...</td>\n",
       "      <td>-0.734824,-0.745223,-0.712934,-0.718750,-0.741...</td>\n",
       "      <td>...</td>\n",
       "      <td>-1.945946,-1.945946,-1.947368,-1.948718,-1.900...</td>\n",
       "      <td>-1.197740,-1.200000,-1.203297,-1.230769,-1.224...</td>\n",
       "      <td>-2.338462,-2.272727,-2.287879,-2.235294,-2.231...</td>\n",
       "      <td>-0.750000,-0.750000,-0.750000,-0.793103,-0.810...</td>\n",
       "      <td>-1.200000,-1.192926,-1.186709,-1.175000,-1.141...</td>\n",
       "      <td>-1.309890,-1.315904,-1.309013,-1.288136,-1.266...</td>\n",
       "      <td>-3.414634,-3.560976,-3.609756,-3.595238,-3.477...</td>\n",
       "      <td>-1.826772,-1.810811,-1.770677,-1.761029,-1.764...</td>\n",
       "      <td>-0.821429,-0.817746,-0.826506,-0.873479,-0.886...</td>\n",
       "      <td>-2.255814,-2.204545,-2.200000,-2.222222,-2.195...</td>\n",
       "    </tr>\n",
       "  </tbody>\n",
       "</table>\n",
       "<p>2 rows × 23 columns</p>\n",
       "</div>"
      ],
      "text/plain": [
       "1           0                                               chr1  \\\n",
       "0  LIB-ZIIEJE  -0.735294,-0.735294,-0.735294,-0.735294,-0.735...   \n",
       "1  LIB-ZIIEJK  -0.535354,-0.561224,-0.581633,-0.581633,-0.608...   \n",
       "\n",
       "1                                              chr10  \\\n",
       "0  -0.828169,-0.835655,-0.846797,-0.850416,-0.842...   \n",
       "1  -1.007299,-0.996390,-0.985765,-0.975177,-0.964...   \n",
       "\n",
       "1                                              chr11  \\\n",
       "0  -1.844444,-1.900000,-1.902174,-1.872340,-1.836...   \n",
       "1  -1.884892,-1.832168,-1.733333,-1.688742,-1.626...   \n",
       "\n",
       "1                                              chr12  \\\n",
       "0  -1.420561,-1.410714,-1.392857,-1.353448,-1.336...   \n",
       "1  -1.869919,-1.817460,-1.812500,-1.829457,-1.781...   \n",
       "\n",
       "1                                              chr13  \\\n",
       "0  -3.133333,-3.032258,-2.906250,-2.906250,-2.735...   \n",
       "1  -2.469697,-2.411765,-2.352113,-2.310811,-2.250...   \n",
       "\n",
       "1                                              chr14  \\\n",
       "0  -0.588889,-0.600000,-0.611111,-0.596685,-0.607...   \n",
       "1  -0.713836,-0.737342,-0.722397,-0.735016,-0.745...   \n",
       "\n",
       "1                                              chr15  \\\n",
       "0  -0.835821,-0.835821,-0.798030,-0.786408,-0.739...   \n",
       "1  -0.679487,-0.696774,-0.670968,-0.670968,-0.647...   \n",
       "\n",
       "1                                              chr16  \\\n",
       "0  -0.548023,-0.562500,-0.573864,-0.517045,-0.531...   \n",
       "1  -0.579439,-0.556250,-0.523364,-0.495356,-0.500...   \n",
       "\n",
       "1                                              chr17  ...  \\\n",
       "0  -0.766355,-0.803738,-0.800000,-0.763636,-0.756...  ...   \n",
       "1  -0.734824,-0.745223,-0.712934,-0.718750,-0.741...  ...   \n",
       "\n",
       "1                                              chr20  \\\n",
       "0  -2.142857,-2.142857,-2.380952,-2.428571,-2.476...   \n",
       "1  -1.945946,-1.945946,-1.947368,-1.948718,-1.900...   \n",
       "\n",
       "1                                              chr21  \\\n",
       "0  -0.790419,-0.796407,-0.791667,-0.786982,-0.763...   \n",
       "1  -1.197740,-1.200000,-1.203297,-1.230769,-1.224...   \n",
       "\n",
       "1                                              chr22  \\\n",
       "0  -1.794118,-1.794118,-1.794118,-1.794118,-1.742...   \n",
       "1  -2.338462,-2.272727,-2.287879,-2.235294,-2.231...   \n",
       "\n",
       "1                                               chr3  \\\n",
       "0  -0.842857,-0.779904,-0.770335,-0.780952,-0.772...   \n",
       "1  -0.750000,-0.750000,-0.750000,-0.793103,-0.810...   \n",
       "\n",
       "1                                               chr4  \\\n",
       "0  -1.354839,-1.305263,-1.315789,-1.347368,-1.343...   \n",
       "1  -1.200000,-1.192926,-1.186709,-1.175000,-1.141...   \n",
       "\n",
       "1                                               chr5  \\\n",
       "0  -1.266667,-1.250000,-1.267399,-1.261029,-1.238...   \n",
       "1  -1.309890,-1.315904,-1.309013,-1.288136,-1.266...   \n",
       "\n",
       "1                                               chr6  \\\n",
       "0  -3.590909,-3.727273,-3.818182,-3.818182,-3.818...   \n",
       "1  -3.414634,-3.560976,-3.609756,-3.595238,-3.477...   \n",
       "\n",
       "1                                               chr7  \\\n",
       "0  -1.692810,-1.718954,-1.664557,-1.650000,-1.600...   \n",
       "1  -1.826772,-1.810811,-1.770677,-1.761029,-1.764...   \n",
       "\n",
       "1                                               chr8  \\\n",
       "0  -0.625000,-0.669903,-0.669903,-0.669903,-0.747...   \n",
       "1  -0.821429,-0.817746,-0.826506,-0.873479,-0.886...   \n",
       "\n",
       "1                                               chr9  \n",
       "0  -3.285714,-3.285714,-3.428571,-3.428571,-3.000...  \n",
       "1  -2.255814,-2.204545,-2.200000,-2.222222,-2.195...  \n",
       "\n",
       "[2 rows x 23 columns]"
      ]
     },
     "execution_count": 10,
     "metadata": {},
     "output_type": "execute_result"
    }
   ],
   "source": [
    "data.head(2)"
   ]
  },
  {
   "cell_type": "code",
   "execution_count": 11,
   "metadata": {
    "scrolled": true
   },
   "outputs": [],
   "source": [
    "u = list(labels['library'])\n",
    "data = data[data['0'].isin(u)]\n",
    "data = data.reset_index()\n",
    "labels.rename(columns={'library':'PatientId'}, inplace=True)\n",
    "data.rename(columns={'0':'PatientId'}, inplace=True)"
   ]
  },
  {
   "cell_type": "code",
   "execution_count": 12,
   "metadata": {},
   "outputs": [
    {
     "data": {
      "text/html": [
       "<div>\n",
       "<style scoped>\n",
       "    .dataframe tbody tr th:only-of-type {\n",
       "        vertical-align: middle;\n",
       "    }\n",
       "\n",
       "    .dataframe tbody tr th {\n",
       "        vertical-align: top;\n",
       "    }\n",
       "\n",
       "    .dataframe thead th {\n",
       "        text-align: right;\n",
       "    }\n",
       "</style>\n",
       "<table border=\"1\" class=\"dataframe\">\n",
       "  <thead>\n",
       "    <tr style=\"text-align: right;\">\n",
       "      <th>1</th>\n",
       "      <th>index</th>\n",
       "      <th>PatientId</th>\n",
       "      <th>chr1</th>\n",
       "      <th>chr10</th>\n",
       "      <th>chr11</th>\n",
       "      <th>chr12</th>\n",
       "      <th>chr13</th>\n",
       "      <th>chr14</th>\n",
       "      <th>chr15</th>\n",
       "      <th>chr16</th>\n",
       "      <th>...</th>\n",
       "      <th>chr20</th>\n",
       "      <th>chr21</th>\n",
       "      <th>chr22</th>\n",
       "      <th>chr3</th>\n",
       "      <th>chr4</th>\n",
       "      <th>chr5</th>\n",
       "      <th>chr6</th>\n",
       "      <th>chr7</th>\n",
       "      <th>chr8</th>\n",
       "      <th>chr9</th>\n",
       "    </tr>\n",
       "  </thead>\n",
       "  <tbody>\n",
       "    <tr>\n",
       "      <th>0</th>\n",
       "      <td>0</td>\n",
       "      <td>LIB-ZIIEJE</td>\n",
       "      <td>-0.735294,-0.735294,-0.735294,-0.735294,-0.735...</td>\n",
       "      <td>-0.828169,-0.835655,-0.846797,-0.850416,-0.842...</td>\n",
       "      <td>-1.844444,-1.900000,-1.902174,-1.872340,-1.836...</td>\n",
       "      <td>-1.420561,-1.410714,-1.392857,-1.353448,-1.336...</td>\n",
       "      <td>-3.133333,-3.032258,-2.906250,-2.906250,-2.735...</td>\n",
       "      <td>-0.588889,-0.600000,-0.611111,-0.596685,-0.607...</td>\n",
       "      <td>-0.835821,-0.835821,-0.798030,-0.786408,-0.739...</td>\n",
       "      <td>-0.548023,-0.562500,-0.573864,-0.517045,-0.531...</td>\n",
       "      <td>...</td>\n",
       "      <td>-2.142857,-2.142857,-2.380952,-2.428571,-2.476...</td>\n",
       "      <td>-0.790419,-0.796407,-0.791667,-0.786982,-0.763...</td>\n",
       "      <td>-1.794118,-1.794118,-1.794118,-1.794118,-1.742...</td>\n",
       "      <td>-0.842857,-0.779904,-0.770335,-0.780952,-0.772...</td>\n",
       "      <td>-1.354839,-1.305263,-1.315789,-1.347368,-1.343...</td>\n",
       "      <td>-1.266667,-1.250000,-1.267399,-1.261029,-1.238...</td>\n",
       "      <td>-3.590909,-3.727273,-3.818182,-3.818182,-3.818...</td>\n",
       "      <td>-1.692810,-1.718954,-1.664557,-1.650000,-1.600...</td>\n",
       "      <td>-0.625000,-0.669903,-0.669903,-0.669903,-0.747...</td>\n",
       "      <td>-3.285714,-3.285714,-3.428571,-3.428571,-3.000...</td>\n",
       "    </tr>\n",
       "    <tr>\n",
       "      <th>1</th>\n",
       "      <td>1</td>\n",
       "      <td>LIB-ZIIEJK</td>\n",
       "      <td>-0.535354,-0.561224,-0.581633,-0.581633,-0.608...</td>\n",
       "      <td>-1.007299,-0.996390,-0.985765,-0.975177,-0.964...</td>\n",
       "      <td>-1.884892,-1.832168,-1.733333,-1.688742,-1.626...</td>\n",
       "      <td>-1.869919,-1.817460,-1.812500,-1.829457,-1.781...</td>\n",
       "      <td>-2.469697,-2.411765,-2.352113,-2.310811,-2.250...</td>\n",
       "      <td>-0.713836,-0.737342,-0.722397,-0.735016,-0.745...</td>\n",
       "      <td>-0.679487,-0.696774,-0.670968,-0.670968,-0.647...</td>\n",
       "      <td>-0.579439,-0.556250,-0.523364,-0.495356,-0.500...</td>\n",
       "      <td>...</td>\n",
       "      <td>-1.945946,-1.945946,-1.947368,-1.948718,-1.900...</td>\n",
       "      <td>-1.197740,-1.200000,-1.203297,-1.230769,-1.224...</td>\n",
       "      <td>-2.338462,-2.272727,-2.287879,-2.235294,-2.231...</td>\n",
       "      <td>-0.750000,-0.750000,-0.750000,-0.793103,-0.810...</td>\n",
       "      <td>-1.200000,-1.192926,-1.186709,-1.175000,-1.141...</td>\n",
       "      <td>-1.309890,-1.315904,-1.309013,-1.288136,-1.266...</td>\n",
       "      <td>-3.414634,-3.560976,-3.609756,-3.595238,-3.477...</td>\n",
       "      <td>-1.826772,-1.810811,-1.770677,-1.761029,-1.764...</td>\n",
       "      <td>-0.821429,-0.817746,-0.826506,-0.873479,-0.886...</td>\n",
       "      <td>-2.255814,-2.204545,-2.200000,-2.222222,-2.195...</td>\n",
       "    </tr>\n",
       "  </tbody>\n",
       "</table>\n",
       "<p>2 rows × 24 columns</p>\n",
       "</div>"
      ],
      "text/plain": [
       "1  index   PatientId                                               chr1  \\\n",
       "0      0  LIB-ZIIEJE  -0.735294,-0.735294,-0.735294,-0.735294,-0.735...   \n",
       "1      1  LIB-ZIIEJK  -0.535354,-0.561224,-0.581633,-0.581633,-0.608...   \n",
       "\n",
       "1                                              chr10  \\\n",
       "0  -0.828169,-0.835655,-0.846797,-0.850416,-0.842...   \n",
       "1  -1.007299,-0.996390,-0.985765,-0.975177,-0.964...   \n",
       "\n",
       "1                                              chr11  \\\n",
       "0  -1.844444,-1.900000,-1.902174,-1.872340,-1.836...   \n",
       "1  -1.884892,-1.832168,-1.733333,-1.688742,-1.626...   \n",
       "\n",
       "1                                              chr12  \\\n",
       "0  -1.420561,-1.410714,-1.392857,-1.353448,-1.336...   \n",
       "1  -1.869919,-1.817460,-1.812500,-1.829457,-1.781...   \n",
       "\n",
       "1                                              chr13  \\\n",
       "0  -3.133333,-3.032258,-2.906250,-2.906250,-2.735...   \n",
       "1  -2.469697,-2.411765,-2.352113,-2.310811,-2.250...   \n",
       "\n",
       "1                                              chr14  \\\n",
       "0  -0.588889,-0.600000,-0.611111,-0.596685,-0.607...   \n",
       "1  -0.713836,-0.737342,-0.722397,-0.735016,-0.745...   \n",
       "\n",
       "1                                              chr15  \\\n",
       "0  -0.835821,-0.835821,-0.798030,-0.786408,-0.739...   \n",
       "1  -0.679487,-0.696774,-0.670968,-0.670968,-0.647...   \n",
       "\n",
       "1                                              chr16  ...  \\\n",
       "0  -0.548023,-0.562500,-0.573864,-0.517045,-0.531...  ...   \n",
       "1  -0.579439,-0.556250,-0.523364,-0.495356,-0.500...  ...   \n",
       "\n",
       "1                                              chr20  \\\n",
       "0  -2.142857,-2.142857,-2.380952,-2.428571,-2.476...   \n",
       "1  -1.945946,-1.945946,-1.947368,-1.948718,-1.900...   \n",
       "\n",
       "1                                              chr21  \\\n",
       "0  -0.790419,-0.796407,-0.791667,-0.786982,-0.763...   \n",
       "1  -1.197740,-1.200000,-1.203297,-1.230769,-1.224...   \n",
       "\n",
       "1                                              chr22  \\\n",
       "0  -1.794118,-1.794118,-1.794118,-1.794118,-1.742...   \n",
       "1  -2.338462,-2.272727,-2.287879,-2.235294,-2.231...   \n",
       "\n",
       "1                                               chr3  \\\n",
       "0  -0.842857,-0.779904,-0.770335,-0.780952,-0.772...   \n",
       "1  -0.750000,-0.750000,-0.750000,-0.793103,-0.810...   \n",
       "\n",
       "1                                               chr4  \\\n",
       "0  -1.354839,-1.305263,-1.315789,-1.347368,-1.343...   \n",
       "1  -1.200000,-1.192926,-1.186709,-1.175000,-1.141...   \n",
       "\n",
       "1                                               chr5  \\\n",
       "0  -1.266667,-1.250000,-1.267399,-1.261029,-1.238...   \n",
       "1  -1.309890,-1.315904,-1.309013,-1.288136,-1.266...   \n",
       "\n",
       "1                                               chr6  \\\n",
       "0  -3.590909,-3.727273,-3.818182,-3.818182,-3.818...   \n",
       "1  -3.414634,-3.560976,-3.609756,-3.595238,-3.477...   \n",
       "\n",
       "1                                               chr7  \\\n",
       "0  -1.692810,-1.718954,-1.664557,-1.650000,-1.600...   \n",
       "1  -1.826772,-1.810811,-1.770677,-1.761029,-1.764...   \n",
       "\n",
       "1                                               chr8  \\\n",
       "0  -0.625000,-0.669903,-0.669903,-0.669903,-0.747...   \n",
       "1  -0.821429,-0.817746,-0.826506,-0.873479,-0.886...   \n",
       "\n",
       "1                                               chr9  \n",
       "0  -3.285714,-3.285714,-3.428571,-3.428571,-3.000...  \n",
       "1  -2.255814,-2.204545,-2.200000,-2.222222,-2.195...  \n",
       "\n",
       "[2 rows x 24 columns]"
      ]
     },
     "execution_count": 12,
     "metadata": {},
     "output_type": "execute_result"
    }
   ],
   "source": [
    "data.head(2)"
   ]
  },
  {
   "cell_type": "code",
   "execution_count": 14,
   "metadata": {
    "scrolled": false
   },
   "outputs": [],
   "source": [
    "labels = labels.sort_values(by=['PatientId'])\n",
    "data = data.sort_values(by=['PatientId'])"
   ]
  },
  {
   "cell_type": "code",
   "execution_count": 15,
   "metadata": {},
   "outputs": [],
   "source": [
    "names = data.columns\n",
    "samples_id = list(data['PatientId'])\n",
    "del data['PatientId']\n",
    "del data['index']"
   ]
  },
  {
   "cell_type": "code",
   "execution_count": 16,
   "metadata": {},
   "outputs": [],
   "source": [
    "def frag_profile(x):\n",
    "    p = x.split(',')\n",
    "    results = list(map(float, p))\n",
    "    return results"
   ]
  },
  {
   "cell_type": "code",
   "execution_count": 17,
   "metadata": {},
   "outputs": [],
   "source": [
    "data.drop(data.tail(1).index,inplace=True) # Last row has nan values "
   ]
  },
  {
   "cell_type": "code",
   "execution_count": 18,
   "metadata": {},
   "outputs": [],
   "source": [
    "X = data.values\n",
    "Y = labels['estimated.purity'].values"
   ]
  },
  {
   "cell_type": "code",
   "execution_count": 19,
   "metadata": {},
   "outputs": [],
   "source": [
    "from scipy import signal \n",
    "import math \n",
    "import pywt"
   ]
  },
  {
   "cell_type": "code",
   "execution_count": 20,
   "metadata": {},
   "outputs": [],
   "source": [
    "def waveletCoeffMatrix(x):\n",
    "    coeff, _ = pywt.cwt(x, range(1,32), 'morl', 1)\n",
    "    coeff_ = coeff[:,:31]\n",
    "    return coeff_"
   ]
  },
  {
   "cell_type": "code",
   "execution_count": 21,
   "metadata": {},
   "outputs": [],
   "source": [
    "XX = np.ndarray(shape=(100,31,31,22)) # pick 100 samples"
   ]
  },
  {
   "cell_type": "code",
   "execution_count": 22,
   "metadata": {},
   "outputs": [],
   "source": [
    "for jj in range(0,22):\n",
    "    #print(jj)\n",
    "    label = ('chr%s'%(jj+1))\n",
    "    chr_data = data[label].apply(lambda row : frag_profile(row))\n",
    "    signal_matrix = np.array(chr_data.values.tolist())\n",
    "    for ii in range(0,100):\n",
    "        coeff, _ = pywt.cwt(signal_matrix[ii], range(1,32), 'morl', 1)\n",
    "        coeff_ = coeff[:,:31]\n",
    "        XX[ii,:,:,jj] = coeff_"
   ]
  },
  {
   "cell_type": "code",
   "execution_count": 23,
   "metadata": {},
   "outputs": [
    {
     "data": {
      "text/plain": [
       "(100, 31, 31, 22)"
      ]
     },
     "execution_count": 23,
     "metadata": {},
     "output_type": "execute_result"
    }
   ],
   "source": [
    "XX.shape"
   ]
  },
  {
   "cell_type": "code",
   "execution_count": 25,
   "metadata": {},
   "outputs": [],
   "source": [
    "from sklearn.model_selection import train_test_split"
   ]
  },
  {
   "cell_type": "code",
   "execution_count": 26,
   "metadata": {},
   "outputs": [],
   "source": [
    "indices = [i for i in range(len(XX))]"
   ]
  },
  {
   "cell_type": "code",
   "execution_count": 27,
   "metadata": {},
   "outputs": [],
   "source": [
    "X_train, X_test ,Y_train, Y_test, indices_train, indices_test = train_test_split(XX, Y[:100], indices, test_size=0.2)"
   ]
  },
  {
   "cell_type": "code",
   "execution_count": 28,
   "metadata": {},
   "outputs": [
    {
     "name": "stdout",
     "output_type": "stream",
     "text": [
      "(80, 31, 31, 22) (80,)\n",
      "(20, 31, 31, 22) (20,)\n"
     ]
    }
   ],
   "source": [
    "print(X_train.shape, Y_train.shape)\n",
    "print(X_test.shape, Y_test.shape)"
   ]
  },
  {
   "cell_type": "code",
   "execution_count": 29,
   "metadata": {},
   "outputs": [],
   "source": [
    "batch_size = 16\n",
    "num_classes = 1\n",
    "epochs = 10\n",
    "IMG_SIZE = 31\n",
    "input_shape = (IMG_SIZE, IMG_SIZE, 22)"
   ]
  },
  {
   "cell_type": "code",
   "execution_count": 30,
   "metadata": {},
   "outputs": [],
   "source": [
    "model = Sequential()\n",
    "model.add(Conv2D(32, kernel_size=(5, 5), strides=(1, 1),\n",
    "                 activation='relu',\n",
    "                 input_shape=input_shape))\n",
    "model.add(MaxPooling2D(pool_size=(2, 2), strides=(2, 2)))\n",
    "model.add(Conv2D(64, (3, 3), activation='relu'))\n",
    "model.add(MaxPooling2D(pool_size=(2, 2)))\n",
    "model.add(Flatten())\n",
    "model.add(Dense(10, input_dim=1))\n",
    "model.add(Dense(1))\n",
    "#model.add(Dense(2, activation='relu'))\n",
    "#model.add(Dense(num_classes, activation='softmax'))"
   ]
  },
  {
   "cell_type": "code",
   "execution_count": 77,
   "metadata": {},
   "outputs": [],
   "source": [
    "def keras_custom_loss_function(y_actual, y_predicted):\n",
    "        custom_loss_value = -y_actual*kb.log(y_predicted) - ((1-y_actual)*(1-y_actual))*kb.log(1-y_predicted)\n",
    "        return np.mean(custom_loss_value)"
   ]
  },
  {
   "cell_type": "code",
   "execution_count": 80,
   "metadata": {},
   "outputs": [],
   "source": [
    "model.compile(loss = 'mean_squared_error', optimizer = keras.optimizers.Adadelta(), metrics=['accuracy'])"
   ]
  },
  {
   "cell_type": "code",
   "execution_count": 81,
   "metadata": {},
   "outputs": [
    {
     "data": {
      "text/plain": [
       "<matplotlib.image.AxesImage at 0x6794ce9d0>"
      ]
     },
     "execution_count": 81,
     "metadata": {},
     "output_type": "execute_result"
    },
    {
     "data": {
      "image/png": "[encoded data removed]",
      "text/plain": [
       "<Figure size 432x288 with 1 Axes>"
      ]
     },
     "metadata": {
      "needs_background": "light"
     },
     "output_type": "display_data"
    }
   ],
   "source": [
    "plt.imshow(X_train[1,:,:,2])"
   ]
  },
  {
   "cell_type": "code",
   "execution_count": 58,
   "metadata": {},
   "outputs": [
    {
     "name": "stdout",
     "output_type": "stream",
     "text": [
      "Train on 80 samples, validate on 20 samples\n",
      "Epoch 1/10\n",
      " - 0s - loss: 0.0397 - accuracy: 0.4125 - val_loss: 0.0441 - val_accuracy: 0.4500\n",
      "Epoch 2/10\n",
      " - 0s - loss: 0.1129 - accuracy: 0.2875 - val_loss: 0.0152 - val_accuracy: 0.4500\n",
      "Epoch 3/10\n",
      " - 0s - loss: 0.0182 - accuracy: 0.4125 - val_loss: 0.0015 - val_accuracy: 0.4500\n",
      "Epoch 4/10\n",
      " - 0s - loss: 0.0103 - accuracy: 0.4125 - val_loss: 0.0019 - val_accuracy: 0.4500\n",
      "Epoch 5/10\n",
      " - 0s - loss: 0.0071 - accuracy: 0.4125 - val_loss: 0.0059 - val_accuracy: 0.4500\n",
      "Epoch 6/10\n",
      " - 0s - loss: 0.0066 - accuracy: 0.4125 - val_loss: 0.0013 - val_accuracy: 0.4500\n",
      "Epoch 7/10\n",
      " - 0s - loss: 0.0070 - accuracy: 0.4125 - val_loss: 0.0017 - val_accuracy: 0.4500\n",
      "Epoch 8/10\n",
      " - 0s - loss: 0.0057 - accuracy: 0.4125 - val_loss: 0.0014 - val_accuracy: 0.4500\n",
      "Epoch 9/10\n",
      " - 0s - loss: 0.0053 - accuracy: 0.4125 - val_loss: 0.0117 - val_accuracy: 0.4500\n",
      "Epoch 10/10\n",
      " - 0s - loss: 0.0079 - accuracy: 0.4125 - val_loss: 0.0042 - val_accuracy: 0.4500\n"
     ]
    }
   ],
   "source": [
    "history = model.fit(X_train, Y_train, batch_size=batch_size, epochs=epochs, verbose=2, validation_data=(X_test, Y_test))"
   ]
  },
  {
   "cell_type": "code",
   "execution_count": 82,
   "metadata": {},
   "outputs": [
    {
     "name": "stdout",
     "output_type": "stream",
     "text": [
      "Test loss: 0.008460532873868942\n",
      "Test accuracy: 0.44999998807907104\n"
     ]
    }
   ],
   "source": [
    "score = model.evaluate(X_test, Y_test, verbose=0)\n",
    "print('Test loss:', score[0])\n",
    "print('Test accuracy:', score[1])"
   ]
  },
  {
   "cell_type": "code",
   "execution_count": 83,
   "metadata": {},
   "outputs": [
    {
     "name": "stdout",
     "output_type": "stream",
     "text": [
      "True value 0.11, predicted value [0.15443876]\n"
     ]
    }
   ],
   "source": [
    "Y_predicted = model.predict(X_test)\n",
    "j = 4\n",
    "print('True value %s, predicted value %s' % (Y_test[j],Y_predicted[j]))"
   ]
  },
  {
   "cell_type": "code",
   "execution_count": null,
   "metadata": {},
   "outputs": [],
   "source": []
  }
 ],
 "metadata": {
  "kernelspec": {
   "display_name": "Python 3",
   "language": "python",
   "name": "python3"
  },
  "language_info": {
   "codemirror_mode": {
    "name": "ipython",
    "version": 3
   },
   "file_extension": ".py",
   "mimetype": "text/x-python",
   "name": "python",
   "nbconvert_exporter": "python",
   "pygments_lexer": "ipython3",
   "version": "3.7.6"
  }
 },
 "nbformat": 4,
 "nbformat_minor": 4
}
