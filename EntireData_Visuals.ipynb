{
 "cells": [
  {
   "cell_type": "code",
   "execution_count": 2,
   "metadata": {},
   "outputs": [],
   "source": [
    "import pandas as pd\n",
    "import numpy as np\n",
    "import scipy as sp\n",
    "import string\n",
    "import random\n",
    "import re\n",
    "import collections\n",
    "import matplotlib.pyplot as plt\n",
    "from scipy.signal import welch, hanning"
   ]
  },
  {
   "cell_type": "code",
   "execution_count": 3,
   "metadata": {},
   "outputs": [],
   "source": [
    "full_dataset = pd.read_csv('/Users/anamaria1/Desktop/Conferences/2019/Novartis/cfDNA/Hack9-DataAnalysisFolders/DATA.csv',sep='\\t')"
   ]
  },
  {
   "cell_type": "code",
   "execution_count": 4,
   "metadata": {},
   "outputs": [
    {
     "data": {
      "text/html": [
       "<div>\n",
       "<style scoped>\n",
       "    .dataframe tbody tr th:only-of-type {\n",
       "        vertical-align: middle;\n",
       "    }\n",
       "\n",
       "    .dataframe tbody tr th {\n",
       "        vertical-align: top;\n",
       "    }\n",
       "\n",
       "    .dataframe thead th {\n",
       "        text-align: right;\n",
       "    }\n",
       "</style>\n",
       "<table border=\"1\" class=\"dataframe\">\n",
       "  <thead>\n",
       "    <tr style=\"text-align: right;\">\n",
       "      <th></th>\n",
       "      <th>Unnamed: 0</th>\n",
       "      <th>0</th>\n",
       "      <th>1</th>\n",
       "      <th>2</th>\n",
       "      <th>3</th>\n",
       "      <th>4</th>\n",
       "      <th>5</th>\n",
       "      <th>gene_id</th>\n",
       "      <th>transcript_id</th>\n",
       "      <th>gene_type</th>\n",
       "      <th>...</th>\n",
       "      <th>transcript_status</th>\n",
       "      <th>transcript_name</th>\n",
       "      <th>exon_number</th>\n",
       "      <th>exon_id</th>\n",
       "      <th>level</th>\n",
       "      <th>protein_id</th>\n",
       "      <th>tag</th>\n",
       "      <th>ccdsid</th>\n",
       "      <th>havana_gene</th>\n",
       "      <th>havana_transcript</th>\n",
       "    </tr>\n",
       "  </thead>\n",
       "  <tbody>\n",
       "    <tr>\n",
       "      <th>0</th>\n",
       "      <td>0</td>\n",
       "      <td>LIB-ZIIEJE</td>\n",
       "      <td>chr1</td>\n",
       "      <td>3598930</td>\n",
       "      <td>3598995</td>\n",
       "      <td>-0.735294,-0.735294,-0.735294,-0.735294,-0.735...</td>\n",
       "      <td>+</td>\n",
       "      <td>ENSG00000078900.10</td>\n",
       "      <td>ENST00000378295.4</td>\n",
       "      <td>protein_coding</td>\n",
       "      <td>...</td>\n",
       "      <td>KNOWN</td>\n",
       "      <td>TP73-001</td>\n",
       "      <td>2</td>\n",
       "      <td>ENSE00000868857.1</td>\n",
       "      <td>2</td>\n",
       "      <td>ENSP00000367545.4</td>\n",
       "      <td>CCDS</td>\n",
       "      <td>CCDS49.1</td>\n",
       "      <td>OTTHUMG00000000610.5</td>\n",
       "      <td>OTTHUMT00000001468.4</td>\n",
       "    </tr>\n",
       "    <tr>\n",
       "      <th>1</th>\n",
       "      <td>1</td>\n",
       "      <td>LIB-ZIIEJE</td>\n",
       "      <td>chr1</td>\n",
       "      <td>3599624</td>\n",
       "      <td>3599745</td>\n",
       "      <td>-0.780822,-0.780822,-0.780822,-0.780822,-0.726...</td>\n",
       "      <td>+</td>\n",
       "      <td>ENSG00000078900.10</td>\n",
       "      <td>ENST00000378295.4</td>\n",
       "      <td>protein_coding</td>\n",
       "      <td>...</td>\n",
       "      <td>KNOWN</td>\n",
       "      <td>TP73-001</td>\n",
       "      <td>3</td>\n",
       "      <td>ENSE00000358575.1</td>\n",
       "      <td>2</td>\n",
       "      <td>ENSP00000367545.4</td>\n",
       "      <td>CCDS</td>\n",
       "      <td>CCDS49.1</td>\n",
       "      <td>OTTHUMG00000000610.5</td>\n",
       "      <td>OTTHUMT00000001468.4</td>\n",
       "    </tr>\n",
       "  </tbody>\n",
       "</table>\n",
       "<p>2 rows × 23 columns</p>\n",
       "</div>"
      ],
      "text/plain": [
       "   Unnamed: 0           0     1        2        3  \\\n",
       "0           0  LIB-ZIIEJE  chr1  3598930  3598995   \n",
       "1           1  LIB-ZIIEJE  chr1  3599624  3599745   \n",
       "\n",
       "                                                   4  5             gene_id  \\\n",
       "0  -0.735294,-0.735294,-0.735294,-0.735294,-0.735...  +  ENSG00000078900.10   \n",
       "1  -0.780822,-0.780822,-0.780822,-0.780822,-0.726...  +  ENSG00000078900.10   \n",
       "\n",
       "       transcript_id       gene_type  ... transcript_status transcript_name  \\\n",
       "0  ENST00000378295.4  protein_coding  ...             KNOWN        TP73-001   \n",
       "1  ENST00000378295.4  protein_coding  ...             KNOWN        TP73-001   \n",
       "\n",
       "  exon_number            exon_id level         protein_id   tag    ccdsid  \\\n",
       "0           2  ENSE00000868857.1     2  ENSP00000367545.4  CCDS  CCDS49.1   \n",
       "1           3  ENSE00000358575.1     2  ENSP00000367545.4  CCDS  CCDS49.1   \n",
       "\n",
       "            havana_gene     havana_transcript  \n",
       "0  OTTHUMG00000000610.5  OTTHUMT00000001468.4  \n",
       "1  OTTHUMG00000000610.5  OTTHUMT00000001468.4  \n",
       "\n",
       "[2 rows x 23 columns]"
      ]
     },
     "execution_count": 4,
     "metadata": {},
     "output_type": "execute_result"
    }
   ],
   "source": [
    "full_dataset.head(2)"
   ]
  },
  {
   "cell_type": "code",
   "execution_count": 5,
   "metadata": {},
   "outputs": [],
   "source": [
    "del full_dataset['Unnamed: 0']\n",
    "del full_dataset['5']\n",
    "full_dataset.rename(columns={'0':'PatientId', '1':'Chromosome', '2':'ExonStart', '3':'ExonEnd', \n",
    "                               '4':'WPS'},inplace=True)"
   ]
  },
  {
   "cell_type": "code",
   "execution_count": 6,
   "metadata": {},
   "outputs": [
    {
     "name": "stdout",
     "output_type": "stream",
     "text": [
      "Number of  samples 314\n"
     ]
    }
   ],
   "source": [
    "print('Number of  samples %s'% full_dataset['PatientId'].unique().shape[0])"
   ]
  },
  {
   "cell_type": "code",
   "execution_count": 7,
   "metadata": {},
   "outputs": [
    {
     "data": {
      "text/html": [
       "<div>\n",
       "<style scoped>\n",
       "    .dataframe tbody tr th:only-of-type {\n",
       "        vertical-align: middle;\n",
       "    }\n",
       "\n",
       "    .dataframe tbody tr th {\n",
       "        vertical-align: top;\n",
       "    }\n",
       "\n",
       "    .dataframe thead th {\n",
       "        text-align: right;\n",
       "    }\n",
       "</style>\n",
       "<table border=\"1\" class=\"dataframe\">\n",
       "  <thead>\n",
       "    <tr style=\"text-align: right;\">\n",
       "      <th></th>\n",
       "      <th>PatientId</th>\n",
       "      <th>Chromosome</th>\n",
       "      <th>ExonStart</th>\n",
       "      <th>ExonEnd</th>\n",
       "      <th>WPS</th>\n",
       "      <th>gene_id</th>\n",
       "      <th>transcript_id</th>\n",
       "      <th>gene_type</th>\n",
       "      <th>gene_status</th>\n",
       "      <th>gene_name</th>\n",
       "      <th>...</th>\n",
       "      <th>transcript_status</th>\n",
       "      <th>transcript_name</th>\n",
       "      <th>exon_number</th>\n",
       "      <th>exon_id</th>\n",
       "      <th>level</th>\n",
       "      <th>protein_id</th>\n",
       "      <th>tag</th>\n",
       "      <th>ccdsid</th>\n",
       "      <th>havana_gene</th>\n",
       "      <th>havana_transcript</th>\n",
       "    </tr>\n",
       "  </thead>\n",
       "  <tbody>\n",
       "    <tr>\n",
       "      <th>0</th>\n",
       "      <td>LIB-ZIIEJE</td>\n",
       "      <td>chr1</td>\n",
       "      <td>3598930</td>\n",
       "      <td>3598995</td>\n",
       "      <td>-0.735294,-0.735294,-0.735294,-0.735294,-0.735...</td>\n",
       "      <td>ENSG00000078900.10</td>\n",
       "      <td>ENST00000378295.4</td>\n",
       "      <td>protein_coding</td>\n",
       "      <td>KNOWN</td>\n",
       "      <td>TP73</td>\n",
       "      <td>...</td>\n",
       "      <td>KNOWN</td>\n",
       "      <td>TP73-001</td>\n",
       "      <td>2</td>\n",
       "      <td>ENSE00000868857.1</td>\n",
       "      <td>2</td>\n",
       "      <td>ENSP00000367545.4</td>\n",
       "      <td>CCDS</td>\n",
       "      <td>CCDS49.1</td>\n",
       "      <td>OTTHUMG00000000610.5</td>\n",
       "      <td>OTTHUMT00000001468.4</td>\n",
       "    </tr>\n",
       "    <tr>\n",
       "      <th>1</th>\n",
       "      <td>LIB-ZIIEJE</td>\n",
       "      <td>chr1</td>\n",
       "      <td>3599624</td>\n",
       "      <td>3599745</td>\n",
       "      <td>-0.780822,-0.780822,-0.780822,-0.780822,-0.726...</td>\n",
       "      <td>ENSG00000078900.10</td>\n",
       "      <td>ENST00000378295.4</td>\n",
       "      <td>protein_coding</td>\n",
       "      <td>KNOWN</td>\n",
       "      <td>TP73</td>\n",
       "      <td>...</td>\n",
       "      <td>KNOWN</td>\n",
       "      <td>TP73-001</td>\n",
       "      <td>3</td>\n",
       "      <td>ENSE00000358575.1</td>\n",
       "      <td>2</td>\n",
       "      <td>ENSP00000367545.4</td>\n",
       "      <td>CCDS</td>\n",
       "      <td>CCDS49.1</td>\n",
       "      <td>OTTHUMG00000000610.5</td>\n",
       "      <td>OTTHUMT00000001468.4</td>\n",
       "    </tr>\n",
       "  </tbody>\n",
       "</table>\n",
       "<p>2 rows × 21 columns</p>\n",
       "</div>"
      ],
      "text/plain": [
       "    PatientId Chromosome  ExonStart  ExonEnd  \\\n",
       "0  LIB-ZIIEJE       chr1    3598930  3598995   \n",
       "1  LIB-ZIIEJE       chr1    3599624  3599745   \n",
       "\n",
       "                                                 WPS             gene_id  \\\n",
       "0  -0.735294,-0.735294,-0.735294,-0.735294,-0.735...  ENSG00000078900.10   \n",
       "1  -0.780822,-0.780822,-0.780822,-0.780822,-0.726...  ENSG00000078900.10   \n",
       "\n",
       "       transcript_id       gene_type gene_status gene_name  ...  \\\n",
       "0  ENST00000378295.4  protein_coding       KNOWN      TP73  ...   \n",
       "1  ENST00000378295.4  protein_coding       KNOWN      TP73  ...   \n",
       "\n",
       "  transcript_status transcript_name exon_number            exon_id level  \\\n",
       "0             KNOWN        TP73-001           2  ENSE00000868857.1     2   \n",
       "1             KNOWN        TP73-001           3  ENSE00000358575.1     2   \n",
       "\n",
       "          protein_id   tag    ccdsid           havana_gene  \\\n",
       "0  ENSP00000367545.4  CCDS  CCDS49.1  OTTHUMG00000000610.5   \n",
       "1  ENSP00000367545.4  CCDS  CCDS49.1  OTTHUMG00000000610.5   \n",
       "\n",
       "      havana_transcript  \n",
       "0  OTTHUMT00000001468.4  \n",
       "1  OTTHUMT00000001468.4  \n",
       "\n",
       "[2 rows x 21 columns]"
      ]
     },
     "execution_count": 7,
     "metadata": {},
     "output_type": "execute_result"
    }
   ],
   "source": [
    "full_dataset.head(2)"
   ]
  },
  {
   "cell_type": "code",
   "execution_count": 8,
   "metadata": {},
   "outputs": [],
   "source": [
    "a = full_dataset.groupby(['PatientId','Chromosome'])['WPS'].apply(','.join).reset_index()"
   ]
  },
  {
   "cell_type": "code",
   "execution_count": 9,
   "metadata": {},
   "outputs": [
    {
     "data": {
      "text/html": [
       "<div>\n",
       "<style scoped>\n",
       "    .dataframe tbody tr th:only-of-type {\n",
       "        vertical-align: middle;\n",
       "    }\n",
       "\n",
       "    .dataframe tbody tr th {\n",
       "        vertical-align: top;\n",
       "    }\n",
       "\n",
       "    .dataframe thead th {\n",
       "        text-align: right;\n",
       "    }\n",
       "</style>\n",
       "<table border=\"1\" class=\"dataframe\">\n",
       "  <thead>\n",
       "    <tr style=\"text-align: right;\">\n",
       "      <th></th>\n",
       "      <th>PatientId</th>\n",
       "      <th>Chromosome</th>\n",
       "      <th>WPS</th>\n",
       "    </tr>\n",
       "  </thead>\n",
       "  <tbody>\n",
       "    <tr>\n",
       "      <th>0</th>\n",
       "      <td>LIB-ZIIEJE</td>\n",
       "      <td>chr1</td>\n",
       "      <td>-0.735294,-0.735294,-0.735294,-0.735294,-0.735...</td>\n",
       "    </tr>\n",
       "    <tr>\n",
       "      <th>1</th>\n",
       "      <td>LIB-ZIIEJE</td>\n",
       "      <td>chr10</td>\n",
       "      <td>-0.828169,-0.835655,-0.846797,-0.850416,-0.842...</td>\n",
       "    </tr>\n",
       "    <tr>\n",
       "      <th>2</th>\n",
       "      <td>LIB-ZIIEJE</td>\n",
       "      <td>chr11</td>\n",
       "      <td>-1.844444,-1.900000,-1.902174,-1.872340,-1.836...</td>\n",
       "    </tr>\n",
       "    <tr>\n",
       "      <th>3</th>\n",
       "      <td>LIB-ZIIEJE</td>\n",
       "      <td>chr12</td>\n",
       "      <td>-1.420561,-1.410714,-1.392857,-1.353448,-1.336...</td>\n",
       "    </tr>\n",
       "    <tr>\n",
       "      <th>4</th>\n",
       "      <td>LIB-ZIIEJE</td>\n",
       "      <td>chr13</td>\n",
       "      <td>-3.133333,-3.032258,-2.906250,-2.906250,-2.735...</td>\n",
       "    </tr>\n",
       "  </tbody>\n",
       "</table>\n",
       "</div>"
      ],
      "text/plain": [
       "    PatientId Chromosome                                                WPS\n",
       "0  LIB-ZIIEJE       chr1  -0.735294,-0.735294,-0.735294,-0.735294,-0.735...\n",
       "1  LIB-ZIIEJE      chr10  -0.828169,-0.835655,-0.846797,-0.850416,-0.842...\n",
       "2  LIB-ZIIEJE      chr11  -1.844444,-1.900000,-1.902174,-1.872340,-1.836...\n",
       "3  LIB-ZIIEJE      chr12  -1.420561,-1.410714,-1.392857,-1.353448,-1.336...\n",
       "4  LIB-ZIIEJE      chr13  -3.133333,-3.032258,-2.906250,-2.906250,-2.735..."
      ]
     },
     "execution_count": 9,
     "metadata": {},
     "output_type": "execute_result"
    }
   ],
   "source": [
    "a.head()"
   ]
  },
  {
   "cell_type": "code",
   "execution_count": 10,
   "metadata": {},
   "outputs": [],
   "source": [
    "def chr_profile(x):\n",
    "    p = x.split(',')\n",
    "    results = list(map(float, p))\n",
    "    return results"
   ]
  },
  {
   "cell_type": "code",
   "execution_count": 11,
   "metadata": {},
   "outputs": [],
   "source": [
    "def len_wps(x):\n",
    "    return len(x.split(','))"
   ]
  },
  {
   "cell_type": "code",
   "execution_count": 11,
   "metadata": {},
   "outputs": [],
   "source": [
    "AllChrProfiles = a['WPS'].apply(lambda row : chr_profile(row))"
   ]
  },
  {
   "cell_type": "code",
   "execution_count": 12,
   "metadata": {},
   "outputs": [
    {
     "data": {
      "text/plain": [
       "0    [-0.735294, -0.735294, -0.735294, -0.735294, -...\n",
       "1    [-0.828169, -0.835655, -0.846797, -0.850416, -...\n",
       "2    [-1.844444, -1.9, -1.902174, -1.87234, -1.8367...\n",
       "3    [-1.420561, -1.410714, -1.392857, -1.353448, -...\n",
       "4    [-3.133333, -3.032258, -2.90625, -2.90625, -2....\n",
       "Name: WPS, dtype: object"
      ]
     },
     "execution_count": 12,
     "metadata": {},
     "output_type": "execute_result"
    }
   ],
   "source": [
    "AllChrProfiles.head()"
   ]
  },
  {
   "cell_type": "code",
   "execution_count": 13,
   "metadata": {},
   "outputs": [],
   "source": [
    "ind_chr1 = a[a['Chromosome']=='chr1'].index.values"
   ]
  },
  {
   "cell_type": "code",
   "execution_count": 14,
   "metadata": {},
   "outputs": [],
   "source": [
    "chr1_matrix = np.array(AllChrProfiles[ind_chr1].values.tolist())\n",
    "chr1_matrix_mean = np.mean(chr1_matrix,axis=0)"
   ]
  },
  {
   "cell_type": "code",
   "execution_count": 15,
   "metadata": {
    "scrolled": true
   },
   "outputs": [
    {
     "data": {
      "image/png": "[encoded data removed]",
      "text/plain": [
       "<Figure size 432x288 with 1 Axes>"
      ]
     },
     "metadata": {
      "needs_background": "light"
     },
     "output_type": "display_data"
    }
   ],
   "source": [
    "for i in range(0,20):\n",
    "    plt.plot(AllChrProfiles[ind_chr1[i]],color='0.75',linewidth=2)\n",
    "    plt.plot(chr1_matrix_mean,color='k',linewidth=0.25)\n",
    "    plt.title('Chromosome 1')\n",
    "    plt.xlabel('Chromosome Position')\n",
    "    plt.ylabel('WPS')\n",
    "    plt.ylim((-15,5))  \n",
    "plt.show()"
   ]
  },
  {
   "cell_type": "code",
   "execution_count": 12,
   "metadata": {},
   "outputs": [],
   "source": [
    "labels = pd.read_csv('Data/20190819_WPS_NORM.hackathon_sample_info_updated.csv')\n",
    "labels = labels.fillna('N/A')\n",
    "labels.rename(columns={'library':'PatientId', 'hotspot':'Oncogene'},inplace=True)"
   ]
  },
  {
   "cell_type": "code",
   "execution_count": 13,
   "metadata": {},
   "outputs": [],
   "source": [
    "zeroPurity = labels[(labels['estimated.purity']==0) & (labels['ctdna.score']<=0.01)]"
   ]
  },
  {
   "cell_type": "code",
   "execution_count": 14,
   "metadata": {},
   "outputs": [],
   "source": [
    "highPurity = labels[labels['estimated.purity']>=0.5]"
   ]
  },
  {
   "cell_type": "code",
   "execution_count": 15,
   "metadata": {},
   "outputs": [],
   "source": [
    "zero_ids = zeroPurity['PatientId'].tolist()\n",
    "high_ids = highPurity['PatientId'].tolist()"
   ]
  },
  {
   "cell_type": "code",
   "execution_count": 16,
   "metadata": {},
   "outputs": [],
   "source": [
    "zero_a = a[a['PatientId'].isin(zero_ids)]\n",
    "high_a = a[a['PatientId'].isin(high_ids)]"
   ]
  },
  {
   "cell_type": "code",
   "execution_count": 17,
   "metadata": {},
   "outputs": [
    {
     "data": {
      "text/plain": [
       "62"
      ]
     },
     "execution_count": 17,
     "metadata": {},
     "output_type": "execute_result"
    }
   ],
   "source": [
    "zero_a['PatientId'].unique().shape[0]"
   ]
  },
  {
   "cell_type": "code",
   "execution_count": 18,
   "metadata": {},
   "outputs": [
    {
     "data": {
      "text/plain": [
       "7"
      ]
     },
     "execution_count": 18,
     "metadata": {},
     "output_type": "execute_result"
    }
   ],
   "source": [
    "high_a['PatientId'].unique().shape[0]"
   ]
  },
  {
   "cell_type": "code",
   "execution_count": 19,
   "metadata": {},
   "outputs": [
    {
     "name": "stderr",
     "output_type": "stream",
     "text": [
      "/Users/anamaria1/opt/anaconda3/lib/python3.7/site-packages/pandas/core/frame.py:3997: SettingWithCopyWarning: \n",
      "A value is trying to be set on a copy of a slice from a DataFrame\n",
      "\n",
      "See the caveats in the documentation: https://pandas.pydata.org/pandas-docs/stable/user_guide/indexing.html#returning-a-view-versus-a-copy\n",
      "  errors=errors,\n"
     ]
    }
   ],
   "source": [
    "# Remove X/Y chromosomes\n",
    "high_a.drop(high_a[high_a['Chromosome']=='chrX'].index,axis=0,inplace=True)\n",
    "high_a.drop(high_a[high_a['Chromosome']=='chrY'].index,axis=0,inplace=True)\n",
    "zero_a.drop(zero_a[zero_a['Chromosome']=='chrX'].index,axis=0,inplace=True)\n",
    "zero_a.drop(zero_a[zero_a['Chromosome']=='chrY'].index,axis=0,inplace=True)"
   ]
  },
  {
   "cell_type": "code",
   "execution_count": 20,
   "metadata": {},
   "outputs": [],
   "source": [
    "Zero_ChrProfiles = zero_a['WPS'].apply(lambda row : chr_profile(row))\n",
    "High_ChrProfiles = high_a['WPS'].apply(lambda row : chr_profile(row))"
   ]
  },
  {
   "cell_type": "code",
   "execution_count": 21,
   "metadata": {},
   "outputs": [],
   "source": [
    "n = high_a['PatientId'].unique().shape[0]\n",
    "r_ind = np.random.randint(zero_a['PatientId'].unique().shape[0], size=n)\n",
    "j = 1\n",
    "label = ('chr%s'%(j+1))\n",
    "k1 = high_a[high_a['Chromosome']==label].index.values\n",
    "k2 = zero_a[zero_a['Chromosome']==label].index.values"
   ]
  },
  {
   "cell_type": "code",
   "execution_count": 22,
   "metadata": {},
   "outputs": [],
   "source": [
    "tmp1_matrix = np.array(High_ChrProfiles[k1].values.tolist())\n",
    "tmp2_matrix = np.array(Zero_ChrProfiles[k2].values.tolist())\n",
    "\n",
    "tmp1_matrix_mean = np.mean(tmp1_matrix,axis=0)\n",
    "tmp2_matrix_mean = np.mean(tmp2_matrix,axis=0)"
   ]
  },
  {
   "cell_type": "code",
   "execution_count": 23,
   "metadata": {},
   "outputs": [
    {
     "data": {
      "image/png": "[encoded data removed]",
      "text/plain": [
       "<Figure size 432x288 with 2 Axes>"
      ]
     },
     "metadata": {
      "needs_background": "light"
     },
     "output_type": "display_data"
    }
   ],
   "source": [
    "from matplotlib.pyplot import style, savefig\n",
    "# Plot side-by-side zero and high purity chromosome WPS data\n",
    "_, (ax1, ax2) = plt.subplots(1,2)\n",
    "for i in range(0,n): \n",
    "    ax1.plot(Zero_ChrProfiles[k2[i]],color='0.75',linewidth=2)\n",
    "    ax1.plot(tmp1_matrix_mean,color='k',linewidth=0.25)\n",
    "    ax2.plot(High_ChrProfiles[k1[i]],color='0.75',linewidth=2)\n",
    "    ax2.plot(tmp2_matrix_mean,color='k',linewidth=0.25)\n",
    "    _.suptitle('Chromosome %s'%(j+1))\n",
    "ax1.set_xlabel('Chromosome Position')\n",
    "ax1.set_ylabel('WPS')\n",
    "ax1.set_ylim((-15,5)) \n",
    "ax1.set_title('Zero Purity')\n",
    "ax1.set_xticklabels([])\n",
    "ax2.set_xlabel('Chromosome Position')\n",
    "ax2.set_xticklabels([])\n",
    "ax2.set_ylim((-15,5)) \n",
    "ax2.set_title('Above 50% Purity')\n",
    "#savefig('chr%s_plots.eps'%(j+1),bbox_inches='tight')\n",
    "plt.show()"
   ]
  },
  {
   "cell_type": "code",
   "execution_count": null,
   "metadata": {},
   "outputs": [],
   "source": [
    "####################################################################################\n",
    "############### Wavelet Transformations of the WPS #################################\n",
    "####################################################################################"
   ]
  },
  {
   "cell_type": "code",
   "execution_count": 24,
   "metadata": {},
   "outputs": [],
   "source": [
    "from scipy import signal \n",
    "import math \n",
    "import pywt"
   ]
  },
  {
   "cell_type": "code",
   "execution_count": 25,
   "metadata": {},
   "outputs": [
    {
     "data": {
      "image/png": "[encoded data removed]",
      "text/plain": [
       "<Figure size 432x288 with 25 Axes>"
      ]
     },
     "metadata": {
      "needs_background": "light"
     },
     "output_type": "display_data"
    }
   ],
   "source": [
    "_, axs = plt.subplots(5,5)\n",
    "_.suptitle('Zero purity sample')\n",
    "scales = range(1,128)\n",
    "waveletname = 'morl'\n",
    "for j in range(0,22):\n",
    "    label = ('chr%s'%(j+1))\n",
    "    k2 = zero_a[zero_a['Chromosome']==label].index.values\n",
    "    k1 = high_a[high_a['Chromosome']==label].index.values\n",
    "    \n",
    "    j_row = math.floor(j/5)\n",
    "    j_col = j%5\n",
    "    #print(j,j_row,j_col)\n",
    "    coeff1, freq1 = pywt.cwt(High_ChrProfiles[k1[5]], scales, waveletname, 1)\n",
    "    coeff1_ = coeff1[:,:127]\n",
    "    \n",
    "    coeff2, freq2 = pywt.cwt(Zero_ChrProfiles[k2[5]], scales, waveletname, 1)\n",
    "    coeff2_ = coeff2[:,:127]\n",
    "    \n",
    "    im = axs[j_row,j_col].imshow(coeff2_,vmin=0, vmax=np.max(coeff2_))\n",
    "    axs[j_row,j_col].set_title('Chr %s'%(j+1))\n",
    "    axs[j_row,j_col].axis('off')\n",
    "    \n",
    "_.tight_layout()\n",
    "#plt.savefig('ZeroPurity_CWT_PerChromosome.eps', dpi=80, bbox_inches='tight')\n",
    "plt.show()"
   ]
  },
  {
   "cell_type": "code",
   "execution_count": null,
   "metadata": {},
   "outputs": [],
   "source": []
  }
 ],
 "metadata": {
  "kernelspec": {
   "display_name": "Python 3",
   "language": "python",
   "name": "python3"
  }
 },
 "nbformat": 4,
 "nbformat_minor": 4
}
